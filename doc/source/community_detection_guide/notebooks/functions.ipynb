{
 "cells": [
  {
   "cell_type": "markdown",
   "id": "ffab67df-ef61-4311-9831-acd0e78a6e9a",
   "metadata": {},
   "source": [
    "# Helper functions"
   ]
  },
  {
   "cell_type": "code",
   "execution_count": 1,
   "id": "31c5d776-eee9-4b87-923f-74dfa44785fd",
   "metadata": {},
   "outputs": [],
   "source": [
    "import igraph as ig\n",
    "import random\n",
    "from contextlib import contextmanager\n",
    "\n",
    "ig.config[\"plotting.backend\"] = \"matplotlib\""
   ]
  },
  {
   "cell_type": "markdown",
   "id": "75c4b640-d999-4947-bdcd-4c2dc84b7466",
   "metadata": {},
   "source": [
    "_Note:_ igraph has two stable plotting backends at the moment: Cairo and Matplotlib. It also has experimental support for plotly. The Cairo backend is dependent on the pycairo or cairocffi libraries that provide Python bindings to the popular Cairo library. In our case we want to use the matplotlib backend to avoid additional dependencies, so it is useful to fix the plotting.backend in the config in each notebook we want to use igraph's plotting functions.\n",
    "\n",
    "---\n",
    "Temporarily set the random state, restoring it afterwards.\n",
    "\n",
    "For example:\n",
    "```python\n",
    "with local_random(seed=123):\n",
    "    g.community_leiden()\n",
    "```"
   ]
  },
  {
   "cell_type": "code",
   "execution_count": 2,
   "id": "d2d768d4-a5d4-4c72-b044-25ea095a7c0d",
   "metadata": {},
   "outputs": [],
   "source": [
    "@contextmanager\n",
    "def local_random(seed=None):\n",
    "    state = random.getstate()\n",
    "    if seed is not None:\n",
    "        random.seed(seed)\n",
    "    try:\n",
    "        yield\n",
    "    finally:\n",
    "        random.setstate(state)"
   ]
  },
  {
   "cell_type": "markdown",
   "id": "fd8664f7-18b6-4a06-922f-21420166c2f4",
   "metadata": {},
   "source": [
    "---\n",
    "\n",
    "This function is a simple wrapper that calls one of three `igraph` community detection algorithms based on the `community_detection_method` parameter.\n",
    "The function also handles passing `weights` to the algorithm if the `weight_attribute_name` exists on the graph's edges, and it can take a dictionary of extra parameters for the `leiden` algorithm."
   ]
  },
  {
   "cell_type": "code",
   "execution_count": 3,
   "id": "111e125c-00a6-4f69-ad64-a29a05028ff9",
   "metadata": {},
   "outputs": [],
   "source": [
    "def community_detection(graph: ig.Graph, community_detection_method: str = \"multilevel\", weight_attribute_name: str = \"weight\", \n",
    "                        params: dict = None):\n",
    "    if community_detection_method == \"multilevel\":\n",
    "        return graph.community_multilevel(weights=weight_attribute_name if weight_attribute_name in graph.edge_attributes() else None)\n",
    "    elif community_detection_method == \"leiden\":\n",
    "        if params is None:\n",
    "            return graph.community_leiden(weights=weight_attribute_name if weight_attribute_name in graph.edge_attributes() else None)\n",
    "        else:\n",
    "            params[\"weights\"] = weight_attribute_name if weight_attribute_name in graph.edge_attributes() else None\n",
    "            return graph.community_leiden(**params)\n",
    "    elif community_detection_method == \"fastgreedy\":\n",
    "        return graph.community_fastgreedy(weights=weight_attribute_name if weight_attribute_name in graph.edge_attributes() else None).as_clustering()"
   ]
  },
  {
   "cell_type": "markdown",
   "id": "e15bf0ab-7b54-4f89-b6f6-e49ae9de6c54",
   "metadata": {},
   "source": [
    "## Significance of community structure"
   ]
  },
  {
   "cell_type": "markdown",
   "id": "6309417d-2705-4454-9e68-84cf34883c1b",
   "metadata": {},
   "source": [
    "### Method 1: Testing network structure with modularity"
   ]
  },
  {
   "cell_type": "markdown",
   "id": "4f8ffebb-8d10-47c0-857c-b36baf054438",
   "metadata": {},
   "source": [
    "This function conducts a rewiring test to assess the statistical significance of your network's community structure.\n",
    "\n",
    "It works by:\n",
    "\n",
    "- Creating 500 randomized versions of the original graph, preserving the node degrees.\n",
    "\n",
    "- Calculating the modularity of each randomized network's community structure.\n",
    "\n",
    "- Returning a list of these 500 modularity values, which can then be compared to the modularity of the original graph."
   ]
  },
  {
   "cell_type": "code",
   "execution_count": 4,
   "id": "1ab35a72-4bcd-4391-8f28-85b39c6a29ef",
   "metadata": {},
   "outputs": [],
   "source": [
    "def rewire(graph: ig.Graph, community_detection_method: str = \"multilevel\", params: dict = None):\n",
    "    num_randomizations = 500  # Number of randomized networks to generate\n",
    "    modularity_random_networks = []\n",
    "    \n",
    "    num_swaps_for_randomization = graph.ecount() * 10\n",
    "    \n",
    "    for i in range(num_randomizations):\n",
    "        # G.rewire() modifies the graph in-place, so we must work on a copy.\n",
    "        graph_random = graph.copy()\n",
    "\n",
    "        graph_random.rewire(n=num_swaps_for_randomization)\n",
    "\n",
    "        partition = community_detection(graph_random, community_detection_method, weight_attribute_name=None, params=params)\n",
    "        modularity_random_networks.append(partition.modularity)\n",
    "\n",
    "    return modularity_random_networks"
   ]
  },
  {
   "cell_type": "markdown",
   "id": "a00cf2d1-401e-40ca-9c98-ca3c15bf920f",
   "metadata": {},
   "source": [
    "This function tests the statistical significance of a network's community structure."
   ]
  },
  {
   "cell_type": "code",
   "execution_count": 5,
   "id": "2d0f4fea-d2dd-4ea6-9b79-2238439628b5",
   "metadata": {},
   "outputs": [],
   "source": [
    "def test_community_structure(graph: ig.Graph, graph_name: str = \"Karate Club Network\", community_detection_method: str = \"multilevel\", \n",
    "                             params: dict = None):\n",
    "    partition = community_detection(graph, community_detection_method, weight_attribute_name=None, params=params)\n",
    "    modularity_orig = partition.modularity\n",
    "    modularity_random_networks = rewire(graph, community_detection_method, params)\n",
    "    plot_histogram(modularity_orig, modularity_random_networks, graph_name)"
   ]
  },
  {
   "cell_type": "markdown",
   "id": "d0b20b67-fff6-47be-ae5a-9b0a6354fc8d",
   "metadata": {},
   "source": [
    "This function, `plot_histogram`, generates a histogram to visually compare the modularity of an original network with the modularity of multiple randomized versions of the same network.\n",
    "\n",
    "The purpose of this plot is to determine the statistical significance of the original network's community structure."
   ]
  },
  {
   "cell_type": "code",
   "execution_count": 6,
   "id": "e4ae538a-e19b-42eb-881a-b66722efcf78",
   "metadata": {},
   "outputs": [],
   "source": [
    "def plot_histogram(modularity_original: float, modularity_random_networks: list[float], graph_name: str=\"Karate Club Network\"):\n",
    "    import matplotlib.pyplot as plt\n",
    "    \n",
    "    plt.figure(figsize=(10, 6))\n",
    "    plt.hist(modularity_random_networks, bins=30, alpha=0.7, color='lightgreen',\n",
    "             edgecolor='black', label='Modularity of Randomized Networks')\n",
    "    \n",
    "    # Set x-axis limits from 0 to 1\n",
    "    plt.xlim(0, 1)\n",
    "    \n",
    "    # Plot a vertical line for the original network's modularity\n",
    "    plt.axvline(modularity_original, color='red', linestyle='dashed', linewidth=2,\n",
    "                label=f'Original Network Modularity ({modularity_original:.4f})')\n",
    "    \n",
    "    plt.title(f'Modularity of Original vs. Randomized {graph_name} (igraph)')\n",
    "    plt.xlabel('Modularity Score')\n",
    "    plt.ylabel('Frequency')\n",
    "    plt.legend()\n",
    "    plt.grid(axis='y', alpha=0.75)\n",
    "    plt.tight_layout()\n",
    "    plt.show()\n"
   ]
  },
  {
   "cell_type": "markdown",
   "id": "7eba4c89-d320-4178-bf00-77966010d148",
   "metadata": {},
   "source": [
    "### Method 2: Testing network structure with NMI values"
   ]
  },
  {
   "cell_type": "markdown",
   "id": "91d3e753-cc1a-4db2-aa38-a29dda382c5b",
   "metadata": {},
   "source": [
    "This function, `check_key_existence`, checks if a list of keys exists in a dictionary."
   ]
  },
  {
   "cell_type": "code",
   "execution_count": 7,
   "id": "11da3d47-2929-4500-8903-d668e7fc437c",
   "metadata": {},
   "outputs": [],
   "source": [
    "def check_key_existence(keys, params):\n",
    "    return all(key in params for key in keys)"
   ]
  },
  {
   "cell_type": "markdown",
   "id": "ffcd093e-f915-4f2b-883c-3da676f09c89",
   "metadata": {},
   "source": [
    "This function is a factory that creates a specific community detection algorithm and returns it as a callable object. It prepares the chosen algorithm to be run, handling its specific parameters (like `resolution` for Leiden) before returning it."
   ]
  },
  {
   "cell_type": "code",
   "execution_count": 8,
   "id": "85a15d50-d718-4daa-ab82-3246516c9648",
   "metadata": {},
   "outputs": [],
   "source": [
    "def build_community_detection_method(graph, community_detection_method, params):\n",
    "    community_detection = None\n",
    "    if community_detection_method == \"leiden\":\n",
    "        if params is None:\n",
    "            raise ValueError(\"params must not be None\")\n",
    "        if not check_key_existence([\"resolution\"], params):\n",
    "            raise KeyError(\"Key not found in params\")\n",
    "        resolution_list = params[\"resolution\"]\n",
    "        leiden_other_params = {k: v for k, v in params.items() if k != \"resolution\"}\n",
    "        community_detection = lambda seed_idx: graph.community_leiden(resolution=resolution_list[seed_idx], **leiden_other_params)\n",
    "    elif community_detection_method == \"multilevel\":\n",
    "        community_detection = lambda _: graph.community_multilevel(**(params if params else {})) # Pass original params if any, or empty dict\n",
    "    else:\n",
    "        raise ValueError(f\"Unknown community detection method: {community_detection_method}\")\n",
    "\n",
    "    if community_detection is None:\n",
    "        raise RuntimeError(\"Failed to set up community_detector_executor.\")\n",
    "\n",
    "    return community_detection"
   ]
  },
  {
   "cell_type": "markdown",
   "id": "d1c035c9-48ab-48ed-881e-a54dc2449044",
   "metadata": {},
   "source": [
    "This function repeatedly runs a community detection algorithm and checks how consistent the results are by comparing each run to a reference partition. It returns a list of **Normalized Mutual Information (NMI)** scores, which tell you how similar each new partition is to the reference."
   ]
  },
  {
   "cell_type": "code",
   "execution_count": 9,
   "id": "78497cfe-7f6b-407b-9404-760b4951588e",
   "metadata": {},
   "outputs": [],
   "source": [
    "def run_stochastic_community_detection(graph, reference_partition: ig.clustering.VertexClustering, num_runs: int, \n",
    "                                       community_detection_method: str = \"multilevel\", return_partitions: bool = False,\n",
    "                                      params: dict = None):\n",
    "    import random\n",
    "    \n",
    "    nmi_values = []\n",
    "    all_partitions = []\n",
    "\n",
    "    community_detection = build_community_detection_method(graph, community_detection_method, params)\n",
    "\n",
    "    for i in range(num_runs):\n",
    "        random.seed()\n",
    "        current_partition = community_detection(i)\n",
    "        all_partitions.append(current_partition)\n",
    "\n",
    "        if not return_partitions:\n",
    "            # Calculate NMI between the current partition and the reference partition\n",
    "            # 'method='nmi'' specifies Normalized Mutual Information\n",
    "            nmi = ig.compare_communities(reference_partition, current_partition, method='nmi')\n",
    "            nmi_values.append(nmi)\n",
    "\n",
    "    if return_partitions:\n",
    "        return all_partitions\n",
    "        \n",
    "    return nmi_values"
   ]
  },
  {
   "cell_type": "markdown",
   "id": "8efd2d45-139d-474d-8c2d-77f21965357a",
   "metadata": {},
   "source": [
    "This function, `plot_nmi_histogram`, creates a histogram to visualize the consistency of a stochastic community detection algorithm. It shows how often the algorithm produces similar community structures.\n",
    "\n",
    "A histogram with a high mean indicates that the algorithm is highly consistent and reliably finds the same community structure, while a low mean suggests the results are highly variable and dependent on the random seed."
   ]
  },
  {
   "cell_type": "code",
   "execution_count": 10,
   "id": "1263aaef-790d-4583-b5a3-956a9d5fb6a0",
   "metadata": {},
   "outputs": [],
   "source": [
    "def plot_nmi_histogram(graph: ig.Graph, nmi_values: list[float], title: str):\n",
    "    import numpy as np\n",
    "    import matplotlib.pyplot as plt\n",
    "    \n",
    "    plt.figure(figsize=(10, 6))\n",
    "    plt.hist(nmi_values, bins=20, edgecolor='black', alpha=0.7, color='lightcoral')\n",
    "    plt.title(title)\n",
    "    plt.xlabel('Normalized Mutual Information (NMI) Score')\n",
    "    plt.ylabel('Frequency')\n",
    "    plt.grid(axis='y', alpha=0.75)\n",
    "    \n",
    "    # Set x-axis limits from 0 to 1\n",
    "    plt.xlim(0, 1)\n",
    "\n",
    "    # Add a line for the mean NMI\n",
    "    mean_nmi = np.mean(nmi_values)\n",
    "    plt.axvline(mean_nmi, color='blue', linestyle='dashed', linewidth=2,\n",
    "                label=f'Mean NMI: {mean_nmi:.4f}')\n",
    "\n",
    "    plt.legend()\n",
    "    plt.tight_layout()\n",
    "    plt.show()"
   ]
  },
  {
   "cell_type": "markdown",
   "id": "6d0fa164-640b-4fad-a78d-7efeb9f3b34c",
   "metadata": {},
   "source": [
    "This function, `calculate_pairwise_nmi`, computes the **Normalized Mutual Information (NMI)** for every unique pair of community structures in a list."
   ]
  },
  {
   "cell_type": "code",
   "execution_count": 11,
   "id": "af67bc53-6c08-477c-8b06-fda1a9776d2e",
   "metadata": {},
   "outputs": [],
   "source": [
    "def calculate_pairwise_nmi(partitions: list[ig.clustering.VertexClustering]):\n",
    "    \"\"\"\n",
    "    Calculates Normalized Mutual Information (NMI) for all unique pairs of partitions.\n",
    "    \"\"\"\n",
    "    import itertools\n",
    "    \n",
    "    pairwise_nmi_values = []\n",
    "    for p1, p2 in itertools.combinations(partitions, 2):\n",
    "        nmi = ig.compare_communities(p1, p2, method='nmi')\n",
    "        pairwise_nmi_values.append(nmi)\n",
    "    return pairwise_nmi_values"
   ]
  },
  {
   "cell_type": "markdown",
   "id": "45c898fe-e73d-4b0d-aed2-6574df05132d",
   "metadata": {},
   "source": [
    "### Testing Significance of Community Structure on a Grid Graph"
   ]
  },
  {
   "cell_type": "markdown",
   "id": "eb240a17-d703-4050-baf1-7517f8afaf0c",
   "metadata": {},
   "source": [
    "This function plots a graph on a grid and colors the nodes by their community membership. It's designed to visualize community detection results on networks with a grid-like structure."
   ]
  },
  {
   "cell_type": "code",
   "execution_count": 12,
   "id": "0e018281-2fe7-4c7c-b608-c2e97e315e34",
   "metadata": {},
   "outputs": [],
   "source": [
    "def plot_leiden_on_grid(graph, grid_cols, communities, title=\"Graph with Leiden Communities\", plot_size=(8, 8)):\n",
    "    \"\"\"\n",
    "    Clusters a graph using the Leiden algorithm and plots the result\n",
    "    with vertices colored by their community, specifically for grid layouts.\n",
    "\n",
    "    Args:\n",
    "        graph (igraph.Graph): The graph to cluster.\n",
    "        grid_cols (int): The number of columns the grid graph has. Crucial for layout.\n",
    "        title (str): Title for the plot.\n",
    "        plot_size (tuple): Size of the matplotlib figure (width, height).\n",
    "\n",
    "    Returns:\n",
    "        igraph.clustering.VertexClustering: The community detection result.\n",
    "    \"\"\"\n",
    "    import matplotlib.pyplot as plt\n",
    "\n",
    "    # Assign colors based on community membership\n",
    "    palette = ig.GradientPalette(\"red\", \"blue\", n=len(communities)) \n",
    "    if len(communities) > 1:\n",
    "        vertex_colors = [palette.get(membership_id) for membership_id in communities.membership]\n",
    "    else:\n",
    "        vertex_colors = [\"red\"]\n",
    "    \n",
    "    # Generate the grid layout using the provided grid_cols\n",
    "    layout = graph.layout_grid(width=grid_cols)\n",
    "            \n",
    "    fig, ax = plt.subplots(figsize=plot_size)\n",
    "\n",
    "    ig.plot(\n",
    "        graph,\n",
    "        target=ax,\n",
    "        layout=layout,\n",
    "        vertex_size=10,\n",
    "        vertex_color=vertex_colors, # Use community colors\n",
    "        vertex_label=None,\n",
    "        edge_width=0.8,\n",
    "        edge_color=\"gray\",\n",
    "        bbox=(0, 0, 600, 600),\n",
    "        margin=20\n",
    "    )\n",
    "    ax.set_title(title)\n",
    "    ax.axis('off')\n",
    "    plt.show()"
   ]
  },
  {
   "cell_type": "markdown",
   "id": "5fbd148a-f723-4f80-acad-1d656d693b5f",
   "metadata": {},
   "source": [
    "## Community detection table"
   ]
  },
  {
   "cell_type": "markdown",
   "id": "de9147df-14c6-4ab7-8947-5cefee8f4267",
   "metadata": {},
   "source": [
    "This function creates and displays an interactive table summarizing various igraph community detection algorithms and their features."
   ]
  },
  {
   "cell_type": "code",
   "execution_count": 13,
   "id": "fe07e5ab-d0f3-4236-b41a-ac888b1eaeb5",
   "metadata": {},
   "outputs": [],
   "source": [
    "def show_table():\n",
    "    import pandas as pd\n",
    "    from itables import init_notebook_mode, show\n",
    "    \n",
    "    # This line enables itables to make all DataFrames interactive by default\n",
    "    # If you only want specific tables to be interactive, remove this line and use show(df) explicitly\n",
    "    init_notebook_mode(all_interactive=True)\n",
    "    \n",
    "    # Your DataFrame creation code (as before)\n",
    "    data = {\n",
    "        'Method': ['Edge Betweenness', 'Fast-Greedy', 'Fluid Communities', 'Infomap', 'Label Propagation', 'Leading Eigenvector', 'Leiden', 'Louvain (Multilevel)', 'Spinglass', 'Walktrap', 'Optimal Modularity', 'Voronoi'],\n",
    "        'Function in igraph (Python)': ['`Graph.community_edge_betweenness()`', '`Graph.community_fastgreedy()`', '`Graph.community_fluid_communities()`', '`Graph.community_infomap()`', '`Graph.community_label_propagation()`', '`Graph.community_leading_eigenvector()`', '`Graph.community_leiden()`', '`Graph.community_multilevel()`', '`Graph.community_spinglass()`', '`Graph.community_walktrap()`', '`Graph.community_optimal_modularity()`', '`Graph.community_voronoi()`'],\n",
    "        'Directed Graph Support': ['✅', '❌', '❌', '✅', '❌', '❌', '✅', '✅', '❌', '❌', '❌', '✅'],\n",
    "        'Weighted Graph Support': ['✅', '✅', '❌ (weights ignored)', '✅', '✅', '✅', '✅', '✅', '✅', '✅', '✅', '✅'],\n",
    "        'Signed Graph Support': ['❌', '❌', '❌', '❌', '❌', '❌', '❌', '❌', '✅', '❌', '❌', '❌'],\n",
    "        'Sparse Graph Performance': ['✅', '✅ (Very efficient)', '✅', '✅', '✅', '✅', '✅', '✅', '✅', '✅', '❌ (Small graphs only)', '✅'],\n",
    "        'Dense Graph Performance': ['❌ (Slow for large)', '✅ (Can handle)', '✅', '✅', '✅', '✅', '✅', '✅', '❌ (Slower)', '✅', '❌ (Small graphs only)', '✅'],\n",
    "        'Deterministic': ['✅', '❌', '❌', '❌', '❌', '✅', '❌', '❌', '❌', '✅', '✅', '✅'],\n",
    "    }\n",
    "    \n",
    "    df = pd.DataFrame(data)\n",
    "    \n",
    "    # To display the DataFrame with interactive features, including sticky headers AND frozen first column\n",
    "    show(df, scrollY=\"300px\", scrollCollapse=True, fixedColumns=True, pageLength=-1)"
   ]
  },
  {
   "cell_type": "markdown",
   "id": "8575f2b2-a73e-400f-af14-f6c833657a43",
   "metadata": {},
   "source": [
    "## Resolution parameter\n",
    "\n",
    "This function, `sierpinski_graph`, generates a graph that represents a [Sierpiński triangle](https://en.wikipedia.org/wiki/Sierpiński_triangle). It uses a recursive approach to build the fractal structure and assigns coordinates to each vertex for accurate visualization."
   ]
  },
  {
   "cell_type": "code",
   "execution_count": 14,
   "id": "a9181bf9-eaf5-488b-a600-c5e3db066240",
   "metadata": {},
   "outputs": [],
   "source": [
    "def sierpinski_graph(depth):\n",
    "    \"\"\"\n",
    "    Generates a Sierpiński triangle graph along with its vertex coordinates\n",
    "    in the x and y vertex attributes.\n",
    "    \"\"\"\n",
    "    import igraph as ig\n",
    "    import numpy as np\n",
    "    \n",
    "    G = ig.Graph()\n",
    "    if depth < 0:\n",
    "        return G, []\n",
    "    \n",
    "    # Use a dictionary to map coordinates to a single vertex ID\n",
    "    coord_to_id = {}\n",
    "    next_id = 0\n",
    "    \n",
    "    def get_or_create_vertex(coord):\n",
    "        nonlocal next_id\n",
    "        coord_tuple = tuple(coord)\n",
    "        if coord_tuple not in coord_to_id:\n",
    "            coord_to_id[coord_tuple] = next_id\n",
    "            G.add_vertex(x=coord[0], y=coord[1])\n",
    "            next_id += 1\n",
    "        return coord_to_id[coord_tuple]\n",
    "    \n",
    "    def add_triangle(g, p1, p2, p3, d):\n",
    "        if d == 0:\n",
    "            v_p1 = get_or_create_vertex(p1)\n",
    "            v_p2 = get_or_create_vertex(p2)\n",
    "            v_p3 = get_or_create_vertex(p3)\n",
    "            \n",
    "            if not g.are_adjacent(v_p1, v_p2): g.add_edge(v_p1, v_p2)\n",
    "            if not g.are_adjacent(v_p2, v_p3): g.add_edge(v_p2, v_p3)\n",
    "            if not g.are_adjacent(v_p3, v_p1): g.add_edge(v_p3, v_p1)\n",
    "        else:\n",
    "            a = ((p1[0] + p2[0]) / 2, (p1[1] + p2[1]) / 2)\n",
    "            b = ((p2[0] + p3[0]) / 2, (p2[1] + p3[1]) / 2)\n",
    "            c = ((p3[0] + p1[0]) / 2, (p3[1] + p1[1]) / 2)\n",
    "            \n",
    "            add_triangle(g, p1, a, c, d - 1)\n",
    "            add_triangle(g, a, p2, b, d - 1)\n",
    "            add_triangle(g, c, b, p3, d - 1)\n",
    "\n",
    "    p1, p2, p3 = (0, 0), (1, 0), (0.5, np.sqrt(3)/2)\n",
    "    add_triangle(G, p1, p2, p3, depth)\n",
    "\n",
    "    return G"
   ]
  },
  {
   "cell_type": "markdown",
   "id": "454e3298-0878-483e-87b4-1c8fb2cb3a90",
   "metadata": {},
   "source": [
    "## Membership vector\n",
    "\n",
    "This function plots a graph with its communities and adds a legend to the plot. \n",
    "\n",
    "It works by:\n",
    "\n",
    "- Drawing the graph, coloring nodes by their community.\n",
    "\n",
    "- Creating a list of colored boxes with community labels.\n",
    "\n",
    "- Displaying the list as a legend on the plot."
   ]
  },
  {
   "cell_type": "code",
   "execution_count": 15,
   "id": "02bbf034-3258-44eb-af67-cf20a563f0dc",
   "metadata": {},
   "outputs": [],
   "source": [
    "def ig_plot_w_legend(g, communities):\n",
    "    import matplotlib.pyplot as plt\n",
    "    import matplotlib.patches as mpatches\n",
    "    # Create a matplotlib figure and axes object\n",
    "    fig, ax = plt.subplots(figsize=(10, 8))\n",
    "    colors_map = plt.colormaps[\"tab10\"]\n",
    "    \n",
    "    # Plot the graph onto the axes, coloring vertices by community\n",
    "    ig.plot(\n",
    "        communities,\n",
    "        target=ax,\n",
    "        vertex_color=[colors_map(c) for c in communities.membership],\n",
    "        vertex_label=g.vs.indices,\n",
    "        layout=g.layout_auto(),\n",
    "    )\n",
    "    \n",
    "    # Corrected section for creating the legend\n",
    "    unique_communities = sorted(list(set(communities.membership)))\n",
    "    legend_handles = []\n",
    "    \n",
    "    for comm_id in unique_communities:\n",
    "        color = colors_map(comm_id)\n",
    "        patch = mpatches.Patch(color=color, label=f'Community {comm_id}')\n",
    "        legend_handles.append(patch)\n",
    "    \n",
    "    # Add the legend to the plot\n",
    "    ax.legend(handles=legend_handles, title=\"Communities\")\n",
    "    \n",
    "    # Display the plot\n",
    "    plt.show()"
   ]
  }
 ],
 "metadata": {
  "kernelspec": {
   "display_name": "myenv",
   "language": "python",
   "name": "myenv"
  },
  "language_info": {
   "codemirror_mode": {
    "name": "ipython",
    "version": 3
   },
   "file_extension": ".py",
   "mimetype": "text/x-python",
   "name": "python",
   "nbconvert_exporter": "python",
   "pygments_lexer": "ipython3",
   "version": "3.13.5"
  },
  "widgets": {
   "application/vnd.jupyter.widget-state+json": {
    "state": {},
    "version_major": 2,
    "version_minor": 0
   }
  }
 },
 "nbformat": 4,
 "nbformat_minor": 5
}
