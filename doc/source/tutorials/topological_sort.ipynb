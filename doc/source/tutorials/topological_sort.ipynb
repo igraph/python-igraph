{
  "cells": [
    {
      "cell_type": "code",
      "execution_count": null,
      "metadata": {
        "collapsed": false
      },
      "outputs": [],
      "source": [
        "%matplotlib inline"
      ]
    },
    {
      "cell_type": "markdown",
      "metadata": {},
      "source": [
        "\n\n# Topological sorting\n\nThis example demonstrates how to get a topological sorting on a directed acyclic graph (DAG). A topological sorting of a directed graph is a linear ordering based on the precedence implied by the directed edges. It exists iff the graph doesn't have any cycle. In ``igraph``, we can use :meth:`igraph.GraphBase.topological_sorting` to get a topological ordering of the vertices.\n"
      ]
    },
    {
      "cell_type": "code",
      "execution_count": null,
      "metadata": {
        "collapsed": false
      },
      "outputs": [],
      "source": [
        "import igraph as ig\nimport matplotlib.pyplot as plt"
      ]
    },
    {
      "cell_type": "markdown",
      "metadata": {},
      "source": [
        "First off, we generate a directed acyclic graph (DAG):\n\n"
      ]
    },
    {
      "cell_type": "code",
      "execution_count": null,
      "metadata": {
        "collapsed": false
      },
      "outputs": [],
      "source": [
        "g = ig.Graph(\n    edges=[(0, 1), (0, 2), (1, 3), (2, 4), (4, 3), (3, 5), (4, 5)],\n    directed=True,\n)"
      ]
    },
    {
      "cell_type": "markdown",
      "metadata": {},
      "source": [
        "We can verify immediately that this is actually a DAG:\n\n"
      ]
    },
    {
      "cell_type": "code",
      "execution_count": null,
      "metadata": {
        "collapsed": false
      },
      "outputs": [],
      "source": [
        "assert g.is_dag"
      ]
    },
    {
      "cell_type": "markdown",
      "metadata": {},
      "source": [
        "A topological sorting can be computed quite easily by calling\n:meth:`igraph.GraphBase.topological_sorting`, which returns a list of vertex IDs.\nIf the given graph is not DAG, the error will occur.\n\n"
      ]
    },
    {
      "cell_type": "code",
      "execution_count": null,
      "metadata": {
        "collapsed": false
      },
      "outputs": [],
      "source": [
        "results = g.topological_sorting(mode='out')\nprint('Topological sort of g (out):', *results)"
      ]
    },
    {
      "cell_type": "markdown",
      "metadata": {},
      "source": [
        "In fact, there are two modes of :meth:`igraph.GraphBase.topological_sorting`,\n``'out'`` ``'in'``. ``'out'`` is the default and starts from a node with\nindegree equal to 0. Vice versa, ``'in'`` starts from a node with outdegree\nequal to 0. To call the other mode, we can simply use:\n\n"
      ]
    },
    {
      "cell_type": "code",
      "execution_count": null,
      "metadata": {
        "collapsed": false
      },
      "outputs": [],
      "source": [
        "results = g.topological_sorting(mode='in')\nprint('Topological sort of g (in):', *results)"
      ]
    },
    {
      "cell_type": "markdown",
      "metadata": {},
      "source": [
        "We can use :meth:`igraph.Vertex.indegree` to find the indegree of the node.\n\n"
      ]
    },
    {
      "cell_type": "code",
      "execution_count": null,
      "metadata": {
        "collapsed": false
      },
      "outputs": [],
      "source": [
        "for i in range(g.vcount()):\n    print('degree of {}: {}'.format(i, g.vs[i].indegree()))\n\n# %\n# Finally, we can plot the graph to make the situation a little clearer.\n# Just to change things up a bit, we use the matplotlib visualization mode\n# inspired by `xkcd <https://xkcd.com/>_:\nwith plt.xkcd():\n    fig, ax = plt.subplots(figsize=(5, 5))\n    ig.plot(\n            g,\n            target=ax,\n            layout='kk',\n            vertex_size=0.3,\n            edge_width=4,\n            vertex_label=range(g.vcount()),\n            vertex_color=\"white\",\n        )"
      ]
    }
  ],
  "metadata": {
    "kernelspec": {
      "display_name": "Python 3",
      "language": "python",
      "name": "python3"
    },
    "language_info": {
      "codemirror_mode": {
        "name": "ipython",
        "version": 3
      },
      "file_extension": ".py",
      "mimetype": "text/x-python",
      "name": "python",
      "nbconvert_exporter": "python",
      "pygments_lexer": "ipython3",
      "version": "3.10.7"
    }
  },
  "nbformat": 4,
  "nbformat_minor": 0
}