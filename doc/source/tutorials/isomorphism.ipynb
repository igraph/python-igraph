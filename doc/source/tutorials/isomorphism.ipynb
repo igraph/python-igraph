{
  "cells": [
    {
      "cell_type": "code",
      "execution_count": null,
      "metadata": {
        "collapsed": false
      },
      "outputs": [],
      "source": [
        "%matplotlib inline"
      ]
    },
    {
      "cell_type": "markdown",
      "metadata": {},
      "source": [
        "\n\n# Isomorphism\n\nThis example shows how to check for [isomorphism](https://en.wikipedia.org/wiki/Graph_isomorphism) between small graphs using :meth:`igraph.GraphBase.isomorphic`.\n"
      ]
    },
    {
      "cell_type": "code",
      "execution_count": null,
      "metadata": {
        "collapsed": false
      },
      "outputs": [],
      "source": [
        "import igraph as ig\nimport matplotlib.pyplot as plt"
      ]
    },
    {
      "cell_type": "markdown",
      "metadata": {},
      "source": [
        "First we generate three different graphs:\n\n"
      ]
    },
    {
      "cell_type": "code",
      "execution_count": null,
      "metadata": {
        "collapsed": false
      },
      "outputs": [],
      "source": [
        "g1 = ig.Graph([(0, 1), (0, 2), (0, 4), (1, 2), (1, 3), (2, 3), (2, 4), (3, 4)])\ng2 = ig.Graph([(4, 2), (4, 3), (4, 0), (2, 3), (2, 1), (3, 1), (3, 0), (1, 0)])\ng3 = ig.Graph([(4, 1), (4, 3), (4, 0), (2, 3), (2, 1), (3, 1), (3, 0), (1, 0)])"
      ]
    },
    {
      "cell_type": "markdown",
      "metadata": {},
      "source": [
        "To check whether they are isomorphic, we can use a simple method:\n\n"
      ]
    },
    {
      "cell_type": "code",
      "execution_count": null,
      "metadata": {
        "collapsed": false
      },
      "outputs": [],
      "source": [
        "print(\"Are the graphs g1 and g2 isomorphic?\")\nprint(g1.isomorphic(g2))\nprint(\"Are the graphs g1 and g3 isomorphic?\")\nprint(g1.isomorphic(g3))\nprint(\"Are the graphs g2 and g3 isomorphic?\")\nprint(g2.isomorphic(g3))\n\n# Output:\n# Are the graphs g1 and g2 isomorphic?\n# True\n# Are the graphs g1 and g3 isomorphic?\n# False\n# Are the graphs g2 and g3 isomorphic?\n# False"
      ]
    },
    {
      "cell_type": "markdown",
      "metadata": {},
      "source": [
        "<div class=\"alert alert-info\"><h4>Note</h4><p>[Graph isomorphism](https://en.wikipedia.org/wiki/Graph_isomorphism) is an equivalence\n   relationship, i.e. if `g1 ~ g2` and `g2 ~ g3`, then automatically `g1 ~ g3`. Therefore,\n   we could have skipped the last check.</p></div>\n\n"
      ]
    },
    {
      "cell_type": "markdown",
      "metadata": {},
      "source": [
        "We can plot the graphs to get an idea about the problem:\n\n"
      ]
    },
    {
      "cell_type": "code",
      "execution_count": null,
      "metadata": {
        "collapsed": false
      },
      "outputs": [],
      "source": [
        "visual_style = {\n    \"vertex_color\": \"lightblue\",\n    \"vertex_label\": [0, 1, 2, 3, 4],\n    \"vertex_size\": 0.4,\n}\n\nfig, axs = plt.subplots(1, 3)\nig.plot(\n    g1,\n    layout=g1.layout(\"circle\"),\n    target=axs[0],\n    **visual_style,\n)\nig.plot(\n    g2,\n    layout=g1.layout(\"circle\"),\n    target=axs[1],\n    **visual_style,\n)\nig.plot(\n    g3,\n    layout=g1.layout(\"circle\"),\n    target=axs[2],\n    **visual_style,\n)\nfig.text(0.38, 0.5, '$\\simeq$' if g1.isomorphic(g2) else '$\\\\neq$', fontsize=15, ha='center', va='center')\nfig.text(0.65, 0.5, '$\\simeq$' if g2.isomorphic(g3) else '$\\\\neq$', fontsize=15, ha='center', va='center')\nplt.show()"
      ]
    }
  ],
  "metadata": {
    "kernelspec": {
      "display_name": "Python 3",
      "language": "python",
      "name": "python3"
    },
    "language_info": {
      "codemirror_mode": {
        "name": "ipython",
        "version": 3
      },
      "file_extension": ".py",
      "mimetype": "text/x-python",
      "name": "python",
      "nbconvert_exporter": "python",
      "pygments_lexer": "ipython3",
      "version": "3.10.7"
    }
  },
  "nbformat": 4,
  "nbformat_minor": 0
}