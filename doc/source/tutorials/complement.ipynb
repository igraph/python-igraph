{
  "cells": [
    {
      "cell_type": "code",
      "execution_count": null,
      "metadata": {
        "collapsed": false
      },
      "outputs": [],
      "source": [
        "%matplotlib inline"
      ]
    },
    {
      "cell_type": "markdown",
      "metadata": {},
      "source": [
        "\n\n# Complement\n\nThis example shows how to generate the [complement graph](https://en.wikipedia.org/wiki/Complement_graph) of a graph (sometimes known as the anti-graph) using :meth:`igraph.GraphBase.complementer`.\n"
      ]
    },
    {
      "cell_type": "code",
      "execution_count": null,
      "metadata": {
        "collapsed": false
      },
      "outputs": [],
      "source": [
        "import igraph as ig\nimport matplotlib.pyplot as plt\nimport random"
      ]
    },
    {
      "cell_type": "markdown",
      "metadata": {},
      "source": [
        "First, we generate a random graph\n\n"
      ]
    },
    {
      "cell_type": "code",
      "execution_count": null,
      "metadata": {
        "collapsed": false
      },
      "outputs": [],
      "source": [
        "random.seed(0)\ng1 = ig.Graph.Erdos_Renyi(n=10, p=0.5)"
      ]
    },
    {
      "cell_type": "markdown",
      "metadata": {},
      "source": [
        "<div class=\"alert alert-info\"><h4>Note</h4><p>We set the random seed to ensure the graph comes out exactly the same\n    each time in the gallery. You don't need to do that if you're exploring\n    really random graphs ;-)</p></div>\n\n"
      ]
    },
    {
      "cell_type": "markdown",
      "metadata": {},
      "source": [
        "Then we generate the complement graph:\n\n"
      ]
    },
    {
      "cell_type": "code",
      "execution_count": null,
      "metadata": {
        "collapsed": false
      },
      "outputs": [],
      "source": [
        "g2 = g1.complementer(loops=False)"
      ]
    },
    {
      "cell_type": "markdown",
      "metadata": {},
      "source": [
        "The union graph of the two is of course the full graph, i.e. a graph with\nedges connecting all vertices to all other vertices. Because we decided to\nignore loops (aka self-edges) in the complementer, the full graph does not\ninclude loops either.\n\n"
      ]
    },
    {
      "cell_type": "code",
      "execution_count": null,
      "metadata": {
        "collapsed": false
      },
      "outputs": [],
      "source": [
        "g_full = g1 | g2"
      ]
    },
    {
      "cell_type": "markdown",
      "metadata": {},
      "source": [
        "In case there was any doubt, the complement of the full graph is an\nempty graph, with the same vertices but no edges:\n\n"
      ]
    },
    {
      "cell_type": "code",
      "execution_count": null,
      "metadata": {
        "collapsed": false
      },
      "outputs": [],
      "source": [
        "g_empty = g_full.complementer(loops=False)"
      ]
    },
    {
      "cell_type": "markdown",
      "metadata": {},
      "source": [
        "To demonstrate these concepts more clearly, here's a layout of each of the\nfour graphs we discussed (input, complement, union/full, complement of\nunion/empty):\n\n"
      ]
    },
    {
      "cell_type": "code",
      "execution_count": null,
      "metadata": {
        "collapsed": false
      },
      "outputs": [],
      "source": [
        "fig, axs = plt.subplots(2, 2)\nig.plot(\n    g1,\n    target=axs[0, 0],\n    layout=\"circle\",\n    vertex_color=\"black\",\n)\naxs[0, 0].set_title('Original graph')\nig.plot(\n    g2,\n    target=axs[0, 1],\n    layout=\"circle\",\n    vertex_color=\"black\",\n)\naxs[0, 1].set_title('Complement graph')\n\nig.plot(\n    g_full,\n    target=axs[1, 0],\n    layout=\"circle\",\n    vertex_color=\"black\",\n)\naxs[1, 0].set_title('Union graph')\nig.plot(\n    g_empty,\n    target=axs[1, 1],\n    layout=\"circle\",\n    vertex_color=\"black\",\n)\naxs[1, 1].set_title('Complement of union graph')\nplt.show()"
      ]
    }
  ],
  "metadata": {
    "kernelspec": {
      "display_name": "Python 3",
      "language": "python",
      "name": "python3"
    },
    "language_info": {
      "codemirror_mode": {
        "name": "ipython",
        "version": 3
      },
      "file_extension": ".py",
      "mimetype": "text/x-python",
      "name": "python",
      "nbconvert_exporter": "python",
      "pygments_lexer": "ipython3",
      "version": "3.10.7"
    }
  },
  "nbformat": 4,
  "nbformat_minor": 0
}