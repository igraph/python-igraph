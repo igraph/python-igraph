{
  "cells": [
    {
      "cell_type": "code",
      "execution_count": null,
      "metadata": {
        "collapsed": false
      },
      "outputs": [],
      "source": [
        "%matplotlib inline"
      ]
    },
    {
      "cell_type": "markdown",
      "metadata": {},
      "source": [
        "\n\n# Betweenness\n\nThis example demonstrates how to visualize both vertex and edge betweenness with a custom defined color palette. We use the methods :meth:`igraph.GraphBase.betweenness` and :meth:`igraph.GraphBase.edge_betweenness` respectively, and demonstrate the effects on a standard [Krackhardt Kite](https://www.wikiwand.com/en/Krackhardt_kite_graph) graph, as well as a [Watts-Strogatz](https://en.wikipedia.org/wiki/Watts%E2%80%93Strogatz_model) random graph.\n"
      ]
    },
    {
      "cell_type": "code",
      "execution_count": null,
      "metadata": {
        "collapsed": false
      },
      "outputs": [],
      "source": [
        "import random\nimport matplotlib.pyplot as plt\nfrom matplotlib.cm import ScalarMappable\nfrom matplotlib.colors import LinearSegmentedColormap, Normalize\nimport igraph as ig"
      ]
    },
    {
      "cell_type": "markdown",
      "metadata": {},
      "source": [
        "We define a function that plots the graph  on a Matplotlib axis, along with\nits vertex and edge betweenness values. The function also generates some\ncolor bars on the sides to see how they translate to each other. We use\n[Matplotlib's Normalize class](https://matplotlib.org/stable/api/_as_gen/matplotlib.colors.Normalize.html)\nto ensure that our color bar ranges are correct, as well as *igraph*'s\n:meth:`igraph.utils.rescale` to rescale the betweennesses in the interval\n``[0, 1]``.\n\n"
      ]
    },
    {
      "cell_type": "code",
      "execution_count": null,
      "metadata": {
        "collapsed": false
      },
      "outputs": [],
      "source": [
        "def plot_betweenness(g, vertex_betweenness, edge_betweenness, ax, cax1, cax2):\n    '''Plot vertex/edge betweenness, with colorbars\n\n    Args:\n        g: the graph to plot.\n        ax: the Axes for the graph\n        cax1: the Axes for the vertex betweenness colorbar\n        cax2: the Axes for the edge betweenness colorbar\n    '''\n\n    # Rescale betweenness to be between 0.0 and 1.0\n    scaled_vertex_betweenness = ig.rescale(vertex_betweenness, clamp=True)\n    scaled_edge_betweenness = ig.rescale(edge_betweenness, clamp=True)\n    print(f\"vertices: {min(vertex_betweenness)} - {max(vertex_betweenness)}\")\n    print(f\"edges: {min(edge_betweenness)} - {max(edge_betweenness)}\")\n\n    # Define mappings betweenness -> color\n    cmap1 = LinearSegmentedColormap.from_list(\"vertex_cmap\", [\"pink\", \"indigo\"])\n    cmap2 = LinearSegmentedColormap.from_list(\"edge_cmap\", [\"lightblue\", \"midnightblue\"])\n\n    # Plot graph\n    g.vs[\"color\"] = [cmap1(betweenness) for betweenness in scaled_vertex_betweenness]\n    g.vs[\"size\"]  = ig.rescale(vertex_betweenness, (0.1, 0.5))\n    g.es[\"color\"] = [cmap2(betweenness) for betweenness in scaled_edge_betweenness]\n    g.es[\"width\"] = ig.rescale(edge_betweenness, (0.5, 1.0))\n    ig.plot(\n        g,\n        target=ax,\n        layout=\"fruchterman_reingold\",\n        vertex_frame_width=0.2,\n    )\n\n    # Color bars\n    norm1 = ScalarMappable(norm=Normalize(0, max(vertex_betweenness)), cmap=cmap1)\n    norm2 = ScalarMappable(norm=Normalize(0, max(edge_betweenness)), cmap=cmap2)\n    plt.colorbar(norm1, cax=cax1, orientation=\"horizontal\", label='Vertex Betweenness')\n    plt.colorbar(norm2, cax=cax2, orientation=\"horizontal\", label='Edge Betweenness')"
      ]
    },
    {
      "cell_type": "markdown",
      "metadata": {},
      "source": [
        "First, generate a graph, e.g. the Krackhardt Kite Graph:\n\n"
      ]
    },
    {
      "cell_type": "code",
      "execution_count": null,
      "metadata": {
        "collapsed": false
      },
      "outputs": [],
      "source": [
        "random.seed(0)\ng1 = ig.Graph.Famous(\"Krackhardt_Kite\")"
      ]
    },
    {
      "cell_type": "markdown",
      "metadata": {},
      "source": [
        "Then we can compute vertex and edge betweenness:\n\n"
      ]
    },
    {
      "cell_type": "code",
      "execution_count": null,
      "metadata": {
        "collapsed": false
      },
      "outputs": [],
      "source": [
        "vertex_betweenness1 = g1.betweenness()\nedge_betweenness1 = g1.edge_betweenness()"
      ]
    },
    {
      "cell_type": "code",
      "execution_count": null,
      "metadata": {
        "collapsed": false
      },
      "outputs": [],
      "source": [
        "g2 = ig.Graph.Watts_Strogatz(dim=1, size=150, nei=2, p=0.1)\nvertex_betweenness2 = g2.betweenness()\nedge_betweenness2 = g2.edge_betweenness()"
      ]
    },
    {
      "cell_type": "markdown",
      "metadata": {},
      "source": [
        "Finally, we plot the two graphs, each with two colorbars for vertex/edge\nbetweenness\n\n"
      ]
    },
    {
      "cell_type": "code",
      "execution_count": null,
      "metadata": {
        "collapsed": false
      },
      "outputs": [],
      "source": [
        "fig, axs = plt.subplots(\n    3, 2,\n    figsize=(7, 6),\n    gridspec_kw=dict(height_ratios=(20, 1, 1)),\n)\nplot_betweenness(g1, vertex_betweenness1, edge_betweenness1, *axs[:, 0])\nplot_betweenness(g2, vertex_betweenness2, edge_betweenness2, *axs[:, 1])\nfig.tight_layout(h_pad=1)\nplt.show()"
      ]
    }
  ],
  "metadata": {
    "kernelspec": {
      "display_name": "Python 3",
      "language": "python",
      "name": "python3"
    },
    "language_info": {
      "codemirror_mode": {
        "name": "ipython",
        "version": 3
      },
      "file_extension": ".py",
      "mimetype": "text/x-python",
      "name": "python",
      "nbconvert_exporter": "python",
      "pygments_lexer": "ipython3",
      "version": "3.10.7"
    }
  },
  "nbformat": 4,
  "nbformat_minor": 0
}