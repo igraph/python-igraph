{
  "cells": [
    {
      "cell_type": "code",
      "execution_count": null,
      "metadata": {
        "collapsed": false
      },
      "outputs": [],
      "source": [
        "%matplotlib inline"
      ]
    },
    {
      "cell_type": "markdown",
      "metadata": {},
      "source": [
        "\n\n# Configuration Instance\n\nThis example shows how to use |igraph|'s :class:`configuration instance <igraph.Configuration>` to set default |igraph| settings. This is useful for setting global settings so that they don't need to be explicitly stated at the beginning of every |igraph| project you work on.\n"
      ]
    },
    {
      "cell_type": "code",
      "execution_count": null,
      "metadata": {
        "collapsed": false
      },
      "outputs": [],
      "source": [
        "import igraph as ig\nimport matplotlib.pyplot as plt\nimport random"
      ]
    },
    {
      "cell_type": "markdown",
      "metadata": {},
      "source": [
        "First we define the default plotting backend, layout, and color palette.\n\n"
      ]
    },
    {
      "cell_type": "code",
      "execution_count": null,
      "metadata": {
        "collapsed": false
      },
      "outputs": [],
      "source": [
        "ig.config[\"plotting.backend\"] = \"matplotlib\"\nig.config[\"plotting.layout\"] = \"fruchterman_reingold\"\nig.config[\"plotting.palette\"] = \"rainbow\""
      ]
    },
    {
      "cell_type": "markdown",
      "metadata": {},
      "source": [
        "Then, we save them. By default, ``ig.config.save()`` will save files to\n``~/.igraphrc`` on Linux and Max OS X systems, or in\n``%USERPROFILE%\\.igraphrc`` for Windows systems:\n\n"
      ]
    },
    {
      "cell_type": "code",
      "execution_count": null,
      "metadata": {
        "collapsed": false
      },
      "outputs": [],
      "source": [
        "ig.config.save()"
      ]
    },
    {
      "cell_type": "markdown",
      "metadata": {},
      "source": [
        "The code above only needs to be run once (to store the new config options\ninto the ``.igraphrc`` file). Whenever you use |igraph| and this file exists,\n|igraph| will read its content and use those options as defaults. For\nexample, let's create and plot a new graph to demonstrate:\n\n"
      ]
    },
    {
      "cell_type": "code",
      "execution_count": null,
      "metadata": {
        "collapsed": false
      },
      "outputs": [],
      "source": [
        "random.seed(1)\ng = ig.Graph.Barabasi(n=100, m=1)"
      ]
    },
    {
      "cell_type": "markdown",
      "metadata": {},
      "source": [
        "We now calculate a color value between 0-200 for all nodes, for instance by\ncomputing the vertex betweenness:\n\n"
      ]
    },
    {
      "cell_type": "code",
      "execution_count": null,
      "metadata": {
        "collapsed": false
      },
      "outputs": [],
      "source": [
        "betweenness = g.betweenness()\ncolors = [int(i * 200 / max(betweenness)) for i in betweenness]"
      ]
    },
    {
      "cell_type": "markdown",
      "metadata": {},
      "source": [
        "Finally, we can plot the graph. You will notice that even though we did not\ncreate a dedicated figure and axes, matplotlib is now used by default:\n\n"
      ]
    },
    {
      "cell_type": "code",
      "execution_count": null,
      "metadata": {
        "collapsed": false
      },
      "outputs": [],
      "source": [
        "ig.plot(g, vertex_color=colors, vertex_size=1, edge_width=0.3)\nplt.show()"
      ]
    },
    {
      "cell_type": "markdown",
      "metadata": {},
      "source": [
        "The full list of config settings can be found at\n:class:`igraph.Configuration`.\n\n<div class=\"alert alert-info\"><h4>Note</h4><p>You can have multiple config files: specify each location via\n   ``ig.config.save(\"./path/to/config/file\")``. To load a specific config,\n   import igraph and then call ``ig.config.load(\"./path/to/config/file\")``</p></div>\n\n\n<div class=\"alert alert-info\"><h4>Note</h4><p>To use a consistent style between individual plots (e.g. vertex sizes,\n    colors, layout etc.) check out `tutorials-visual-style`.</p></div>\n\n"
      ]
    }
  ],
  "metadata": {
    "kernelspec": {
      "display_name": "Python 3",
      "language": "python",
      "name": "python3"
    },
    "language_info": {
      "codemirror_mode": {
        "name": "ipython",
        "version": 3
      },
      "file_extension": ".py",
      "mimetype": "text/x-python",
      "name": "python",
      "nbconvert_exporter": "python",
      "pygments_lexer": "ipython3",
      "version": "3.10.7"
    }
  },
  "nbformat": 4,
  "nbformat_minor": 0
}