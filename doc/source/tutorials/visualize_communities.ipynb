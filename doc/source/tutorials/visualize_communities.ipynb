{
  "cells": [
    {
      "cell_type": "code",
      "execution_count": null,
      "metadata": {
        "collapsed": false
      },
      "outputs": [],
      "source": [
        "%matplotlib inline"
      ]
    },
    {
      "cell_type": "markdown",
      "metadata": {},
      "source": [
        "\n\n# Communities\n\nThis example shows how to visualize communities or clusters of a graph.\n"
      ]
    },
    {
      "cell_type": "code",
      "execution_count": null,
      "metadata": {
        "collapsed": false
      },
      "outputs": [],
      "source": [
        "import igraph as ig\nimport matplotlib.pyplot as plt"
      ]
    },
    {
      "cell_type": "markdown",
      "metadata": {},
      "source": [
        "First, we generate a graph. We use a famous graph here for simplicity:\n\n"
      ]
    },
    {
      "cell_type": "code",
      "execution_count": null,
      "metadata": {
        "collapsed": false
      },
      "outputs": [],
      "source": [
        "g = ig.Graph.Famous(\"Zachary\")"
      ]
    },
    {
      "cell_type": "markdown",
      "metadata": {},
      "source": [
        "Edge betweenness is a standard way to detect communities. We then covert into\na :class:`igraph.VertexClustering` object for subsequent ease of use:\n\n"
      ]
    },
    {
      "cell_type": "code",
      "execution_count": null,
      "metadata": {
        "collapsed": false
      },
      "outputs": [],
      "source": [
        "communities = g.community_edge_betweenness()\ncommunities = communities.as_clustering()"
      ]
    },
    {
      "cell_type": "markdown",
      "metadata": {},
      "source": [
        "Next, we color each vertex and edge based on its community membership:\n\n"
      ]
    },
    {
      "cell_type": "code",
      "execution_count": null,
      "metadata": {
        "collapsed": false
      },
      "outputs": [],
      "source": [
        "num_communities = len(communities)\npalette = ig.RainbowPalette(n=num_communities)\nfor i, community in enumerate(communities):\n    g.vs[community][\"color\"] = i\n    community_edges = g.es.select(_within=community)\n    community_edges[\"color\"] = i"
      ]
    },
    {
      "cell_type": "markdown",
      "metadata": {},
      "source": [
        "Last, we plot the graph. We use a fancy technique called proxy artists to\nmake a legend. You can find more about that in matplotlib's\n:doc:`matplotlib:tutorials/intermediate/legend_guide`:\n\n"
      ]
    },
    {
      "cell_type": "code",
      "execution_count": null,
      "metadata": {
        "collapsed": false
      },
      "outputs": [],
      "source": [
        "fig, ax = plt.subplots()\nig.plot(\n    communities,\n    palette=palette,\n    edge_width=1,\n    target=ax,\n    vertex_size=0.3,\n)\n\n# Create a custom color legend\nlegend_handles = []\nfor i in range(num_communities):\n    handle = ax.scatter(\n        [], [],\n        s=100,\n        facecolor=palette.get(i),\n        edgecolor=\"k\",\n        label=i,\n    )\n    legend_handles.append(handle)\nax.legend(\n    handles=legend_handles,\n    title='Community:',\n    bbox_to_anchor=(0, 1.0),\n    bbox_transform=ax.transAxes,\n)\nplt.show()"
      ]
    },
    {
      "cell_type": "markdown",
      "metadata": {},
      "source": [
        "For an example on how to generate the cluster graph from a vertex cluster,\ncheck out `tutorials-cluster-graph`.\n\n"
      ]
    }
  ],
  "metadata": {
    "kernelspec": {
      "display_name": "Python 3",
      "language": "python",
      "name": "python3"
    },
    "language_info": {
      "codemirror_mode": {
        "name": "ipython",
        "version": 3
      },
      "file_extension": ".py",
      "mimetype": "text/x-python",
      "name": "python",
      "nbconvert_exporter": "python",
      "pygments_lexer": "ipython3",
      "version": "3.10.7"
    }
  },
  "nbformat": 4,
  "nbformat_minor": 0
}