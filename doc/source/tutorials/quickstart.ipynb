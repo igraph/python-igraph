{
  "cells": [
    {
      "cell_type": "code",
      "execution_count": null,
      "metadata": {
        "collapsed": false
      },
      "outputs": [],
      "source": [
        "%matplotlib inline"
      ]
    },
    {
      "cell_type": "markdown",
      "metadata": {},
      "source": [
        "\n\n# Quick Start\nFor the eager folks out there, this intro will give you a quick overview of the following operations:\n\n- Construct a graph\n- Set attributes of nodes and edges\n- Plot a graph using matplotlib\n- Save the plot as an image\n- Export and import a graph as a ``.gml`` file\n\nTo find out more features that |igraph| has to offer, check out the `gallery`!\n"
      ]
    },
    {
      "cell_type": "code",
      "execution_count": null,
      "metadata": {
        "collapsed": false
      },
      "outputs": [],
      "source": [
        "import igraph as ig\nimport matplotlib.pyplot as plt\n\n# Construct a graph with 3 vertices\nn_vertices = 3\nedges = [(0, 1), (0, 2), (0, 3), (0, 4), (1, 2), (1, 3), (1, 4), (3, 4)]\ng = ig.Graph(n_vertices, edges)\n\n# Set attributes for the graph, nodes, and edges\ng[\"title\"] = \"Small Social Network\"\ng.vs[\"name\"] = [\"Daniel Morillas\", \"Kathy Archer\", \"Kyle Ding\", \"Joshua Walton\", \"Jana Hoyer\"]\ng.vs[\"gender\"] = [\"M\", \"F\", \"F\", \"M\", \"F\"]\ng.es[\"married\"] = [False, False, False, False, False, False, False, True]\n\n# Set individual attributes\ng.vs[1][\"name\"] = \"Kathy Morillas\"\ng.es[0][\"married\"] = True\n\n# Plot in matplotlib\n# Note that attributes can be set globally (e.g. vertex_size), or set individually using arrays (e.g. vertex_color)\nfig, ax = plt.subplots(figsize=(5,5))\nig.plot(\n    g,\n    target=ax,\n    layout=\"circle\", # print nodes in a circular layout\n    vertex_size=0.1,\n    vertex_color=[\"steelblue\" if gender == \"M\" else \"salmon\" for gender in g.vs[\"gender\"]],\n    vertex_frame_width=4.0,\n    vertex_frame_color=\"white\",\n    vertex_label=g.vs[\"name\"],\n    vertex_label_size=7.0,\n    edge_width=[2 if married else 1 for married in g.es[\"married\"]],\n    edge_color=[\"#7142cf\" if married else \"#AAA\" for married in g.es[\"married\"]]\n)\n\nplt.show()\n\n# Save the graph as an image file\nfig.savefig('social_network.png')\nfig.savefig('social_network.jpg')\nfig.savefig('social_network.pdf')\n\n# Export and import a graph as a GML file.\ng.save(\"social_network.gml\")\ng = ig.load(\"social_network.gml\")"
      ]
    }
  ],
  "metadata": {
    "kernelspec": {
      "display_name": "Python 3",
      "language": "python",
      "name": "python3"
    },
    "language_info": {
      "codemirror_mode": {
        "name": "ipython",
        "version": 3
      },
      "file_extension": ".py",
      "mimetype": "text/x-python",
      "name": "python",
      "nbconvert_exporter": "python",
      "pygments_lexer": "ipython3",
      "version": "3.10.7"
    }
  },
  "nbformat": 4,
  "nbformat_minor": 0
}