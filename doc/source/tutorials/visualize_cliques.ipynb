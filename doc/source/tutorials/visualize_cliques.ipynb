{
  "cells": [
    {
      "cell_type": "code",
      "execution_count": null,
      "metadata": {
        "collapsed": false
      },
      "outputs": [],
      "source": [
        "%matplotlib inline"
      ]
    },
    {
      "cell_type": "markdown",
      "metadata": {},
      "source": [
        "\n\n# Cliques\n\nThis example shows how to compute and visualize cliques of a graph using :meth:`igraph.GraphBase.cliques`.\n"
      ]
    },
    {
      "cell_type": "code",
      "execution_count": null,
      "metadata": {
        "collapsed": false
      },
      "outputs": [],
      "source": [
        "import igraph as ig\nimport matplotlib.pyplot as plt"
      ]
    },
    {
      "cell_type": "markdown",
      "metadata": {},
      "source": [
        "First, let's create a graph, for instance the famous karate club graph:\n\n"
      ]
    },
    {
      "cell_type": "code",
      "execution_count": null,
      "metadata": {
        "collapsed": false
      },
      "outputs": [],
      "source": [
        "g = ig.Graph.Famous('Zachary')"
      ]
    },
    {
      "cell_type": "markdown",
      "metadata": {},
      "source": [
        "Computing cliques can be done as follows:\n\n"
      ]
    },
    {
      "cell_type": "code",
      "execution_count": null,
      "metadata": {
        "collapsed": false
      },
      "outputs": [],
      "source": [
        "cliques = g.cliques(4, 4)"
      ]
    },
    {
      "cell_type": "markdown",
      "metadata": {},
      "source": [
        "We can plot the result of the computation. To make things a little more\ninteresting, we plot each clique highlighted in a separate axes:\n\n"
      ]
    },
    {
      "cell_type": "code",
      "execution_count": null,
      "metadata": {
        "collapsed": false
      },
      "outputs": [],
      "source": [
        "fig, axs = plt.subplots(3, 4)\naxs = axs.ravel()\nfor clique, ax in zip(cliques, axs):\n    ig.plot(\n        ig.VertexCover(g, [clique]),\n        mark_groups=True, palette=ig.RainbowPalette(),\n        edge_width=0.5,\n        target=ax,\n    )\nplt.axis('off')\nplt.show()"
      ]
    },
    {
      "cell_type": "markdown",
      "metadata": {},
      "source": [
        "## Advanced: improving plotting style\nIf you want a little more style, you can color the vertices/edges within each\nclique to make them stand out:\n\n"
      ]
    },
    {
      "cell_type": "code",
      "execution_count": null,
      "metadata": {
        "collapsed": false
      },
      "outputs": [],
      "source": [
        "fig, axs = plt.subplots(3, 4)\naxs = axs.ravel()\nfor clique, ax in zip(cliques, axs):\n    # Color vertices yellow/red based on whether they are in this clique\n    g.vs['color'] = 'yellow'\n    g.vs[clique]['color'] = 'red'\n\n    # Color edges black/red based on whether they are in this clique\n    clique_edges = g.es.select(_within=clique)\n    g.es['color'] = 'black'\n    clique_edges['color'] = 'red'\n    # also increase thickness of clique edges\n    g.es['width'] = 0.3\n    clique_edges['width'] = 1\n\n    ig.plot(\n        ig.VertexCover(g, [clique]),\n        mark_groups=True,\n        palette=ig.RainbowPalette(),\n        target=ax,\n    )\nplt.axis('off')\nplt.show()"
      ]
    }
  ],
  "metadata": {
    "kernelspec": {
      "display_name": "Python 3",
      "language": "python",
      "name": "python3"
    },
    "language_info": {
      "codemirror_mode": {
        "name": "ipython",
        "version": 3
      },
      "file_extension": ".py",
      "mimetype": "text/x-python",
      "name": "python",
      "nbconvert_exporter": "python",
      "pygments_lexer": "ipython3",
      "version": "3.10.7"
    }
  },
  "nbformat": 4,
  "nbformat_minor": 0
}