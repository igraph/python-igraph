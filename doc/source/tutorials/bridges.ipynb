{
  "cells": [
    {
      "cell_type": "code",
      "execution_count": null,
      "metadata": {
        "collapsed": false
      },
      "outputs": [],
      "source": [
        "%matplotlib inline"
      ]
    },
    {
      "cell_type": "markdown",
      "metadata": {},
      "source": [
        "\n\n# Bridges\n\nThis example shows how to compute and visualize the [bridges](https://en.wikipedia.org/wiki/Bridge_(graph_theory)) in a graph using :meth:`igraph.GraphBase.bridges`. For an example on articulation points instead, see `tutorials-articulation-points`.\n"
      ]
    },
    {
      "cell_type": "code",
      "execution_count": null,
      "metadata": {
        "collapsed": false
      },
      "outputs": [],
      "source": [
        "import igraph as ig\nimport matplotlib.pyplot as plt"
      ]
    },
    {
      "cell_type": "markdown",
      "metadata": {},
      "source": [
        "Let's start with a simple example. We begin by constructing a graph that\nincludes a few bridges:\n\n"
      ]
    },
    {
      "cell_type": "code",
      "execution_count": null,
      "metadata": {
        "collapsed": false
      },
      "outputs": [],
      "source": [
        "g = ig.Graph(14, [(0, 1), (1, 2), (2, 3), (0, 3), (0, 2), (1, 3), (3, 4), \n        (4, 5), (5, 6), (6, 4), (6, 7), (7, 8), (7, 9), (9, 10), (10 ,11), \n        (11 ,7), (7, 10), (8, 9), (8, 10), (5, 12), (12, 13)])"
      ]
    },
    {
      "cell_type": "markdown",
      "metadata": {},
      "source": [
        "Then we can use a function to actually find the bridges, i.e. the edges that\nconnect different parts of the graph:\n\n"
      ]
    },
    {
      "cell_type": "code",
      "execution_count": null,
      "metadata": {
        "collapsed": false
      },
      "outputs": [],
      "source": [
        "bridges = g.bridges()"
      ]
    },
    {
      "cell_type": "markdown",
      "metadata": {},
      "source": [
        "We set a separate color for those edges, to emphasize then in a plot:\n\n"
      ]
    },
    {
      "cell_type": "code",
      "execution_count": null,
      "metadata": {
        "collapsed": false
      },
      "outputs": [],
      "source": [
        "g.es[\"color\"] = \"gray\"\ng.es[bridges][\"color\"] = \"red\"\ng.es[\"width\"] = 0.8\ng.es[bridges][\"width\"] = 1.2"
      ]
    },
    {
      "cell_type": "markdown",
      "metadata": {},
      "source": [
        "Finally, we plot the graph using that emphasis:\n\n"
      ]
    },
    {
      "cell_type": "code",
      "execution_count": null,
      "metadata": {
        "collapsed": false
      },
      "outputs": [],
      "source": [
        "fig, ax = plt.subplots()\nig.plot(\n    g, \n    target=ax, \n    vertex_size=0.3,\n    vertex_color=\"lightblue\",\n    vertex_label=range(g.vcount())\n)\nplt.show()"
      ]
    },
    {
      "cell_type": "markdown",
      "metadata": {},
      "source": [
        "## Advanced: Cutting Effect\nBridges are edges that when removed, will separate the graph into more components then they started with. To emphasise the removal of edges from the graph, we can add small \"x\" effect to each of the bridges by using edge labels.\n\n"
      ]
    },
    {
      "cell_type": "markdown",
      "metadata": {},
      "source": [
        "As before, we begin by constructing the graph:\n\n"
      ]
    },
    {
      "cell_type": "code",
      "execution_count": null,
      "metadata": {
        "collapsed": false
      },
      "outputs": [],
      "source": [
        "g = ig.Graph(14, [(0, 1), (1, 2), (2, 3), (0, 3), (0, 2), (1, 3), (3, 4), \n        (4, 5), (5, 6), (6, 4), (6, 7), (7, 8), (7, 9), (9, 10), (10 ,11), \n        (11 ,7), (7, 10), (8, 9), (8, 10), (5, 12), (12, 13)])"
      ]
    },
    {
      "cell_type": "markdown",
      "metadata": {},
      "source": [
        "We then find and set the color for the bridges, but this time we also set a\nlabel for those edges:\n\n"
      ]
    },
    {
      "cell_type": "code",
      "execution_count": null,
      "metadata": {
        "collapsed": false
      },
      "outputs": [],
      "source": [
        "bridges = g.bridges()\ng.es[\"color\"] = \"gray\"\ng.es[bridges][\"color\"] = \"red\"\ng.es[\"width\"] = 0.8\ng.es[bridges][\"width\"] = 1.2\ng.es[\"label\"] = \"\"\ng.es[bridges][\"label\"] = \"x\""
      ]
    },
    {
      "cell_type": "markdown",
      "metadata": {},
      "source": [
        "Finally, we can plot the graph:\n\n"
      ]
    },
    {
      "cell_type": "code",
      "execution_count": null,
      "metadata": {
        "collapsed": false
      },
      "outputs": [],
      "source": [
        "fig, ax = plt.subplots()\nig.plot(\n    g, \n    target=ax, \n    vertex_size=0.3,\n    vertex_color=\"lightblue\",\n    vertex_label=range(g.vcount()),\n    edge_background=\"#FFF0\",    # transparent background color\n    edge_align_label=True,      # make sure labels are aligned with the edge\n    edge_label=g.es[\"label\"],\n    edge_label_color=\"red\"\n)\nplt.show()"
      ]
    }
  ],
  "metadata": {
    "kernelspec": {
      "display_name": "Python 3",
      "language": "python",
      "name": "python3"
    },
    "language_info": {
      "codemirror_mode": {
        "name": "ipython",
        "version": 3
      },
      "file_extension": ".py",
      "mimetype": "text/x-python",
      "name": "python",
      "nbconvert_exporter": "python",
      "pygments_lexer": "ipython3",
      "version": "3.10.7"
    }
  },
  "nbformat": 4,
  "nbformat_minor": 0
}