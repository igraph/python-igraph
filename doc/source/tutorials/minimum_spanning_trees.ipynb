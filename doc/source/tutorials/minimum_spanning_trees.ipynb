{
  "cells": [
    {
      "cell_type": "code",
      "execution_count": null,
      "metadata": {
        "collapsed": false
      },
      "outputs": [],
      "source": [
        "%matplotlib inline"
      ]
    },
    {
      "cell_type": "markdown",
      "metadata": {},
      "source": [
        "\n\n# Minimum Spanning Trees\n\nThis example shows how to generate a [minimum spanning tree](https://en.wikipedia.org/wiki/Minimum_spanning_tree) from an input graph using :meth:`igraph.Graph.spanning_tree`. If you only need a regular spanning tree, check out `tutorials-spanning-trees`.\n"
      ]
    },
    {
      "cell_type": "code",
      "execution_count": null,
      "metadata": {
        "collapsed": false
      },
      "outputs": [],
      "source": [
        "import random\nimport igraph as ig\nimport matplotlib.pyplot as plt"
      ]
    },
    {
      "cell_type": "markdown",
      "metadata": {},
      "source": [
        "We start by generating a grid graph with random integer weights between 1 and\n20:\n\n"
      ]
    },
    {
      "cell_type": "code",
      "execution_count": null,
      "metadata": {
        "collapsed": false
      },
      "outputs": [],
      "source": [
        "random.seed(0)\ng = ig.Graph.Lattice([5, 5], circular=False)\ng.es[\"weight\"] = [random.randint(1, 20) for _ in g.es]"
      ]
    },
    {
      "cell_type": "markdown",
      "metadata": {},
      "source": [
        "We can then compute a minimum spanning tree using\n:meth:`igraph.Graph.spanning_tree`, making sure to pass in the randomly\ngenerated weights.\n\n"
      ]
    },
    {
      "cell_type": "code",
      "execution_count": null,
      "metadata": {
        "collapsed": false
      },
      "outputs": [],
      "source": [
        "mst_edges = g.spanning_tree(weights=g.es[\"weight\"], return_tree=False)"
      ]
    },
    {
      "cell_type": "markdown",
      "metadata": {},
      "source": [
        "We can print out the minimum edge weight sum\n\n"
      ]
    },
    {
      "cell_type": "code",
      "execution_count": null,
      "metadata": {
        "collapsed": false
      },
      "outputs": [],
      "source": [
        "print(\"Minimum edge weight sum:\", sum(g.es[mst_edges][\"weight\"]))\n\n# Minimum edge weight sum: 136"
      ]
    },
    {
      "cell_type": "markdown",
      "metadata": {},
      "source": [
        "Finally, we can plot the graph, highlighting the edges that are part of the\nminimum spanning tree.\n\n"
      ]
    },
    {
      "cell_type": "code",
      "execution_count": null,
      "metadata": {
        "collapsed": false
      },
      "outputs": [],
      "source": [
        "g.es[\"color\"] = \"lightgray\"\ng.es[mst_edges][\"color\"] = \"midnightblue\"\ng.es[\"width\"] = 1.0\ng.es[mst_edges][\"width\"] = 3.0\n\nfig, ax = plt.subplots()\nig.plot(\n    g,\n    target=ax,\n    layout=\"grid\",\n    vertex_color=\"lightblue\",\n    edge_width=g.es[\"width\"],\n    edge_label=g.es[\"weight\"],\n    edge_background=\"white\",\n)\nplt.show()"
      ]
    }
  ],
  "metadata": {
    "kernelspec": {
      "display_name": "Python 3",
      "language": "python",
      "name": "python3"
    },
    "language_info": {
      "codemirror_mode": {
        "name": "ipython",
        "version": 3
      },
      "file_extension": ".py",
      "mimetype": "text/x-python",
      "name": "python",
      "nbconvert_exporter": "python",
      "pygments_lexer": "ipython3",
      "version": "3.10.7"
    }
  },
  "nbformat": 4,
  "nbformat_minor": 0
}