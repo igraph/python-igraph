{
  "cells": [
    {
      "cell_type": "code",
      "execution_count": null,
      "metadata": {
        "collapsed": false
      },
      "outputs": [],
      "source": [
        "%matplotlib inline"
      ]
    },
    {
      "cell_type": "markdown",
      "metadata": {},
      "source": [
        "\n\n# Delaunay Triangulation\n\nThis example demonstrates how to calculate the [Delaunay triangulation](https://en.wikipedia.org/wiki/Delaunay_triangulation) of an input graph. We start by generating a set of points on a 2D grid using random ``numpy`` arrays and a graph with those vertex coordinates and no edges.\n"
      ]
    },
    {
      "cell_type": "code",
      "execution_count": null,
      "metadata": {
        "collapsed": false
      },
      "outputs": [],
      "source": [
        "import numpy as np\nfrom scipy.spatial import Delaunay\nimport igraph as ig\nimport matplotlib.pyplot as plt"
      ]
    },
    {
      "cell_type": "markdown",
      "metadata": {},
      "source": [
        "We start by generating a random graph in the 2D unit cube, fixing the random\nseed to ensure reproducibility.\n\n"
      ]
    },
    {
      "cell_type": "code",
      "execution_count": null,
      "metadata": {
        "collapsed": false
      },
      "outputs": [],
      "source": [
        "np.random.seed(0)\nx, y = np.random.rand(2, 30)\ng = ig.Graph(30)\ng.vs['x'] = x\ng.vs['y'] = y"
      ]
    },
    {
      "cell_type": "markdown",
      "metadata": {},
      "source": [
        "Because we already set the `x` and `y` vertex attributes, we can use\n:meth:`igraph.Graph.layout_auto` to wrap them into a :class:`igraph.Layout`\nobject.\n\n"
      ]
    },
    {
      "cell_type": "code",
      "execution_count": null,
      "metadata": {
        "collapsed": false
      },
      "outputs": [],
      "source": [
        "layout = g.layout_auto()"
      ]
    },
    {
      "cell_type": "markdown",
      "metadata": {},
      "source": [
        "Now we can calculate the delaunay triangulation using `scipy`'s :class:`scipy:scipy.spatial.Delaunay` class:\n\n"
      ]
    },
    {
      "cell_type": "code",
      "execution_count": null,
      "metadata": {
        "collapsed": false
      },
      "outputs": [],
      "source": [
        "delaunay = Delaunay(layout.coords)"
      ]
    },
    {
      "cell_type": "markdown",
      "metadata": {},
      "source": [
        "Given the triangulation, we can add the edges into the original graph:\n\n"
      ]
    },
    {
      "cell_type": "code",
      "execution_count": null,
      "metadata": {
        "collapsed": false
      },
      "outputs": [],
      "source": [
        "for tri in delaunay.simplices:\n    g.add_edges([\n        (tri[0], tri[1]),\n        (tri[1], tri[2]),\n        (tri[0], tri[2]),\n    ])"
      ]
    },
    {
      "cell_type": "markdown",
      "metadata": {},
      "source": [
        "Because adjacent triangles share an edge/side, the graph now contains some\nedges more than once. It's useful to simplify the graph to get rid of those\nmultiedges, keeping each side only once:\n\n"
      ]
    },
    {
      "cell_type": "code",
      "execution_count": null,
      "metadata": {
        "collapsed": false
      },
      "outputs": [],
      "source": [
        "g.simplify()"
      ]
    },
    {
      "cell_type": "markdown",
      "metadata": {},
      "source": [
        "Finally, plotting the graph gives a good idea of what the triangulation looks\nlike:\n\n"
      ]
    },
    {
      "cell_type": "code",
      "execution_count": null,
      "metadata": {
        "collapsed": false
      },
      "outputs": [],
      "source": [
        "fig, ax = plt.subplots()\nig.plot(\n    g,\n    layout=layout,\n    target=ax,\n    vertex_size=0.04,\n    vertex_color=\"lightblue\",\n    edge_width=0.8\n)\nplt.show()"
      ]
    },
    {
      "cell_type": "markdown",
      "metadata": {},
      "source": [
        "## Alternative plotting style\nWe can use :doc:`matplotlib <matplotlib:index>` to plot the faces of the\ntriangles instead of the edges. First, we create a hue gradient for the\ntriangle faces:\n\n"
      ]
    },
    {
      "cell_type": "code",
      "execution_count": null,
      "metadata": {
        "collapsed": false
      },
      "outputs": [],
      "source": [
        "palette = ig.GradientPalette(\"midnightblue\", \"lightblue\", 100)"
      ]
    },
    {
      "cell_type": "markdown",
      "metadata": {},
      "source": [
        "Then we can \"plot\" the triangles using\n:class:`matplotlib:matplotlib.patches.Polygon` and the graph using\n:func:`igraph.plot() <igraph.drawing.plot>`:\n\n"
      ]
    },
    {
      "cell_type": "code",
      "execution_count": null,
      "metadata": {
        "collapsed": false
      },
      "outputs": [],
      "source": [
        "fig, ax = plt.subplots()\nfor tri in delaunay.simplices:\n    # get the points of the triangle\n    tri_points = [delaunay.points[tri[i]] for i in range(3)]\n\n    # calculate the vertical center of the triangle\n    center = (tri_points[0][1] + tri_points[1][1] + tri_points[2][1]) / 3\n\n    # draw triangle onto axes\n    poly = plt.Polygon(tri_points, color=palette.get(int(center * 100)))\n    ax.add_patch(poly)\n\nig.plot(\n    g,\n    layout=layout,\n    target=ax,\n    vertex_size=0.0,\n    edge_width=0.2,\n    edge_color=\"white\",\n)\nax.set(xlim=(0, 1), ylim=(0, 1))\nplt.show()"
      ]
    }
  ],
  "metadata": {
    "kernelspec": {
      "display_name": "Python 3",
      "language": "python",
      "name": "python3"
    },
    "language_info": {
      "codemirror_mode": {
        "name": "ipython",
        "version": 3
      },
      "file_extension": ".py",
      "mimetype": "text/x-python",
      "name": "python",
      "nbconvert_exporter": "python",
      "pygments_lexer": "ipython3",
      "version": "3.10.7"
    }
  },
  "nbformat": 4,
  "nbformat_minor": 0
}