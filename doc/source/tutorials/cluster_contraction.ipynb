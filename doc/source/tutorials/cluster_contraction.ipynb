{
  "cells": [
    {
      "cell_type": "code",
      "execution_count": null,
      "metadata": {
        "collapsed": false
      },
      "outputs": [],
      "source": [
        "%matplotlib inline"
      ]
    },
    {
      "cell_type": "markdown",
      "metadata": {},
      "source": [
        "\n\n# Generating Cluster Graphs\n\nThis example shows how to find the communities in a graph, then contract each community into a single node using :class:`igraph.clustering.VertexClustering`. For this tutorial, we'll use the *Donald Knuth's Les Miserables Network*, which shows the coapperances of characters in the novel *Les Miserables*. \n"
      ]
    },
    {
      "cell_type": "code",
      "execution_count": null,
      "metadata": {
        "collapsed": false
      },
      "outputs": [],
      "source": [
        "import igraph as ig\nimport matplotlib.pyplot as plt"
      ]
    },
    {
      "cell_type": "markdown",
      "metadata": {},
      "source": [
        "We begin by load the graph from file. The file containing this network can be\ndownloaded [here](http://www-personal.umich.edu/~mejn/netdata/).\n\n"
      ]
    },
    {
      "cell_type": "code",
      "execution_count": null,
      "metadata": {
        "collapsed": false
      },
      "outputs": [],
      "source": [
        "g = ig.load(\"./lesmis/lesmis.gml\")"
      ]
    },
    {
      "cell_type": "markdown",
      "metadata": {},
      "source": [
        "Now that we have a graph in memory, we can generate communities using\n:meth:`igraph.Graph.community_edge_betweenness` to separate out vertices into\nclusters. (For a more focused tutorial on just visualising communities, check\nout `tutorials-visualize-communities`).\n\n"
      ]
    },
    {
      "cell_type": "code",
      "execution_count": null,
      "metadata": {
        "collapsed": false
      },
      "outputs": [],
      "source": [
        "communities = g.community_edge_betweenness()"
      ]
    },
    {
      "cell_type": "markdown",
      "metadata": {},
      "source": [
        "For plots, it is convenient to convert the communities into a VertexClustering:\n\n"
      ]
    },
    {
      "cell_type": "code",
      "execution_count": null,
      "metadata": {
        "collapsed": false
      },
      "outputs": [],
      "source": [
        "communities = communities.as_clustering()"
      ]
    },
    {
      "cell_type": "markdown",
      "metadata": {},
      "source": [
        "We can also easily print out who belongs to each community:\n\n"
      ]
    },
    {
      "cell_type": "code",
      "execution_count": null,
      "metadata": {
        "collapsed": false
      },
      "outputs": [],
      "source": [
        "for i, community in enumerate(communities):\n    print(f\"Community {i}:\")\n    for v in community:\n        print(f\"\\t{g.vs[v]['label']}\")"
      ]
    },
    {
      "cell_type": "markdown",
      "metadata": {},
      "source": [
        "Finally we can proceed to plotting the graph. In order to make each community\nstand out, we set \"community colors\" using an igraph palette:\n\n"
      ]
    },
    {
      "cell_type": "code",
      "execution_count": null,
      "metadata": {
        "collapsed": false
      },
      "outputs": [],
      "source": [
        "num_communities = len(communities)\npalette1 = ig.RainbowPalette(n=num_communities)\nfor i, community in enumerate(communities):\n    g.vs[community][\"color\"] = i\n    community_edges = g.es.select(_within=community)\n    community_edges[\"color\"] = i"
      ]
    },
    {
      "cell_type": "markdown",
      "metadata": {},
      "source": [
        "We can use a dirty hack to move the labels below the vertices ;-)\n\n"
      ]
    },
    {
      "cell_type": "code",
      "execution_count": null,
      "metadata": {
        "collapsed": false
      },
      "outputs": [],
      "source": [
        "g.vs[\"label\"] = [\"\\n\\n\" + label for label in g.vs[\"label\"]]"
      ]
    },
    {
      "cell_type": "markdown",
      "metadata": {},
      "source": [
        "Finally, we can plot the communities:\n\n"
      ]
    },
    {
      "cell_type": "code",
      "execution_count": null,
      "metadata": {
        "collapsed": false
      },
      "outputs": [],
      "source": [
        "fig1, ax1 = plt.subplots()\nig.plot(\n    communities, \n    target=ax1,\n    mark_groups=True,\n    palette=palette1,\n    vertex_size=0.1,\n    edge_width=0.5,\n)\nfig1.set_size_inches(20, 20)"
      ]
    },
    {
      "cell_type": "markdown",
      "metadata": {},
      "source": [
        "Now let's try and contract the information down, using only a single vertex\nto represent each community. We start by defining x, y, and size attributes\nfor each node in the original graph:\n\n"
      ]
    },
    {
      "cell_type": "code",
      "execution_count": null,
      "metadata": {
        "collapsed": false
      },
      "outputs": [],
      "source": [
        "layout = g.layout_kamada_kawai()\ng.vs[\"x\"], g.vs[\"y\"] = list(zip(*layout))\ng.vs[\"size\"] = 1\ng.es[\"size\"] = 1"
      ]
    },
    {
      "cell_type": "markdown",
      "metadata": {},
      "source": [
        "Then we can generate the cluster graph that compresses each community into a\nsingle, \"composite\" vertex using\n:meth:`igraph.VertexClustering.cluster_graph`:\n\n"
      ]
    },
    {
      "cell_type": "code",
      "execution_count": null,
      "metadata": {
        "collapsed": false
      },
      "outputs": [],
      "source": [
        "cluster_graph = communities.cluster_graph(\n    combine_vertices={\n        \"x\": \"mean\", \n        \"y\": \"mean\",\n        \"color\": \"first\",\n        \"size\": \"sum\",\n    },\n    combine_edges={\n        \"size\": \"sum\",\n    },\n)"
      ]
    },
    {
      "cell_type": "markdown",
      "metadata": {},
      "source": [
        "<div class=\"alert alert-info\"><h4>Note</h4><p></p></div>\n\n"
      ]
    },
    {
      "cell_type": "code",
      "execution_count": null,
      "metadata": {
        "collapsed": false
      },
      "outputs": [],
      "source": [
        "#      We took the mean of x and y values so that the nodes in the cluster\n#      graph are placed at the centroid of the original cluster.\n#\n# .. note::\n# \n#     ``mean``, ``first``, and ``sum`` are all built-in collapsing functions,\n#     along with ``prod``, ``median``, ``max``, ``min``, ``last``, ``random``.\n#     You can also define your own custom collapsing functions, which take in a\n#     list and return a single element representing the combined attribute\n#     value. For more details on |igraph| contraction, see\n#     :meth:`igraph.GraphBase.contract_vertices`."
      ]
    },
    {
      "cell_type": "markdown",
      "metadata": {},
      "source": [
        "Finally, we can assign colors to the clusters and plot the cluster graph,\nincluding a legend to make things clear:\n\n"
      ]
    },
    {
      "cell_type": "code",
      "execution_count": null,
      "metadata": {
        "collapsed": false
      },
      "outputs": [],
      "source": [
        "palette2 = ig.GradientPalette(\"gainsboro\", \"black\")\ng.es[\"color\"] = [palette2.get(int(i)) for i in ig.rescale(cluster_graph.es[\"size\"], (0, 255), clamp=True)]\n\nfig2, ax2 = plt.subplots()\nig.plot(\n    cluster_graph, \n    target=ax2,\n    palette=palette1,\n    # set a minimum size on vertex_size, otherwise vertices are too small\n    vertex_size=[max(0.2, size / 20) for size in cluster_graph.vs[\"size\"]], \n    edge_color=g.es[\"color\"],\n    edge_width=0.8,\n)\n\n# Add a legend\nlegend_handles = []\nfor i in range(num_communities):\n    handle = ax2.scatter(\n        [], [],\n        s=100,\n        facecolor=palette1.get(i),\n        edgecolor=\"k\",\n        label=i,\n    )\n    legend_handles.append(handle)\n\nax2.legend(\n    handles=legend_handles,\n    title='Community:',\n    bbox_to_anchor=(0, 1.0),\n    bbox_transform=ax2.transAxes,\n)\n\nfig2.set_size_inches(10, 10)"
      ]
    }
  ],
  "metadata": {
    "kernelspec": {
      "display_name": "Python 3",
      "language": "python",
      "name": "python3"
    },
    "language_info": {
      "codemirror_mode": {
        "name": "ipython",
        "version": 3
      },
      "file_extension": ".py",
      "mimetype": "text/x-python",
      "name": "python",
      "nbconvert_exporter": "python",
      "pygments_lexer": "ipython3",
      "version": "3.10.7"
    }
  },
  "nbformat": 4,
  "nbformat_minor": 0
}