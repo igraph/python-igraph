{
  "cells": [
    {
      "cell_type": "code",
      "execution_count": null,
      "metadata": {
        "collapsed": false
      },
      "outputs": [],
      "source": [
        "%matplotlib inline"
      ]
    },
    {
      "cell_type": "markdown",
      "metadata": {},
      "source": [
        "\n\n# Articulation Points\n\nThis example shows how to compute and visualize the [articulation points](https://en.wikipedia.org/wiki/Biconnected_component) in a graph using :meth:`igraph.GraphBase.articulation_points`. For an example on bridges instead, see `tutorials-bridges`.\n"
      ]
    },
    {
      "cell_type": "code",
      "execution_count": null,
      "metadata": {
        "collapsed": false
      },
      "outputs": [],
      "source": [
        "import igraph as ig\nimport matplotlib.pyplot as plt"
      ]
    },
    {
      "cell_type": "markdown",
      "metadata": {},
      "source": [
        "First, we construct a graph. This example shows usage of graph formulae:\n\n"
      ]
    },
    {
      "cell_type": "code",
      "execution_count": null,
      "metadata": {
        "collapsed": false
      },
      "outputs": [],
      "source": [
        "g = ig.Graph.Formula(\n    \"0-1-2-0, 3:4:5:6 - 3:4:5:6, 2-3-7-8\",\n)"
      ]
    },
    {
      "cell_type": "markdown",
      "metadata": {},
      "source": [
        "Now we are aready to find the articulation points as a vertex sequence\n\n"
      ]
    },
    {
      "cell_type": "code",
      "execution_count": null,
      "metadata": {
        "collapsed": false
      },
      "outputs": [],
      "source": [
        "articulation_points = g.vs[g.articulation_points()]"
      ]
    },
    {
      "cell_type": "markdown",
      "metadata": {},
      "source": [
        "Finally, we can plot the graph\n\n"
      ]
    },
    {
      "cell_type": "code",
      "execution_count": null,
      "metadata": {
        "collapsed": false
      },
      "outputs": [],
      "source": [
        "fig, ax = plt.subplots()\nig.plot(\n    g, \n    target=ax, \n    vertex_size=0.3,\n    vertex_color=\"lightblue\",\n    vertex_label=range(g.vcount()),\n    vertex_frame_color = [\"red\" if v in articulation_points else \"black\" for v in g.vs],\n    vertex_frame_width = [3 if v in articulation_points else 1 for v in g.vs],\n    edge_width=0.8,\n    edge_color='gray'\n)\nplt.show()"
      ]
    }
  ],
  "metadata": {
    "kernelspec": {
      "display_name": "Python 3",
      "language": "python",
      "name": "python3"
    },
    "language_info": {
      "codemirror_mode": {
        "name": "ipython",
        "version": 3
      },
      "file_extension": ".py",
      "mimetype": "text/x-python",
      "name": "python",
      "nbconvert_exporter": "python",
      "pygments_lexer": "ipython3",
      "version": "3.10.7"
    }
  },
  "nbformat": 4,
  "nbformat_minor": 0
}