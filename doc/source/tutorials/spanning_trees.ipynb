{
  "cells": [
    {
      "cell_type": "code",
      "execution_count": null,
      "metadata": {
        "collapsed": false
      },
      "outputs": [],
      "source": [
        "%matplotlib inline"
      ]
    },
    {
      "cell_type": "markdown",
      "metadata": {},
      "source": [
        "\n\n# Spanning Trees\n\nThis example shows how to generate a spanning tree from an input graph using :meth:`igraph.Graph.spanning_tree`. For the related idea of finding a *minimum spanning tree*, see `tutorials-minimum-spanning-trees`.\n"
      ]
    },
    {
      "cell_type": "code",
      "execution_count": null,
      "metadata": {
        "collapsed": false
      },
      "outputs": [],
      "source": [
        "import igraph as ig\nimport matplotlib.pyplot as plt\nimport random"
      ]
    },
    {
      "cell_type": "markdown",
      "metadata": {},
      "source": [
        "First we create a two-dimensional, 6 by 6 lattice graph:\n\n"
      ]
    },
    {
      "cell_type": "code",
      "execution_count": null,
      "metadata": {
        "collapsed": false
      },
      "outputs": [],
      "source": [
        "g = ig.Graph.Lattice([6, 6], circular=False)"
      ]
    },
    {
      "cell_type": "markdown",
      "metadata": {},
      "source": [
        "We can compute the 2D layout of the graph:\n\n"
      ]
    },
    {
      "cell_type": "code",
      "execution_count": null,
      "metadata": {
        "collapsed": false
      },
      "outputs": [],
      "source": [
        "layout = g.layout(\"grid\")"
      ]
    },
    {
      "cell_type": "markdown",
      "metadata": {},
      "source": [
        "To spice things up a little, we rearrange the vertex ids and compute a new\nlayout. While not terribly useful in this context, it does make for a more\ninteresting-looking spanning tree ;-)\n\n"
      ]
    },
    {
      "cell_type": "code",
      "execution_count": null,
      "metadata": {
        "collapsed": false
      },
      "outputs": [],
      "source": [
        "random.seed(0)\npermutation = list(range(g.vcount()))\nrandom.shuffle(permutation)\ng = g.permute_vertices(permutation)\nnew_layout = g.layout(\"grid\")\nfor i in range(36):\n    new_layout[permutation[i]] = layout[i]\nlayout = new_layout"
      ]
    },
    {
      "cell_type": "markdown",
      "metadata": {},
      "source": [
        "We can now generate a spanning tree:\n\n"
      ]
    },
    {
      "cell_type": "code",
      "execution_count": null,
      "metadata": {
        "collapsed": false
      },
      "outputs": [],
      "source": [
        "spanning_tree = g.spanning_tree(weights=None, return_tree=False)"
      ]
    },
    {
      "cell_type": "markdown",
      "metadata": {},
      "source": [
        "Finally, we can plot the graph with a highlight color for the spanning tree.\nWe follow the usual recipe: first we set a few aesthetic options and then we\nleverage :func:`igraph.plot() <igraph.drawing.plot>` and matplotlib for the\nheavy lifting:\n\n"
      ]
    },
    {
      "cell_type": "code",
      "execution_count": null,
      "metadata": {
        "collapsed": false
      },
      "outputs": [],
      "source": [
        "g.es[\"color\"] = \"lightgray\"\ng.es[spanning_tree][\"color\"] = \"midnightblue\"\ng.es[\"width\"] = 0.5\ng.es[spanning_tree][\"width\"] = 3.0\n\nfig, ax = plt.subplots()\nig.plot(\n    g,\n    target=ax,\n    layout=layout,\n    vertex_color=\"lightblue\",\n    edge_width=g.es[\"width\"]\n)\nplt.show()"
      ]
    }
  ],
  "metadata": {
    "kernelspec": {
      "display_name": "Python 3",
      "language": "python",
      "name": "python3"
    },
    "language_info": {
      "codemirror_mode": {
        "name": "ipython",
        "version": 3
      },
      "file_extension": ".py",
      "mimetype": "text/x-python",
      "name": "python",
      "nbconvert_exporter": "python",
      "pygments_lexer": "ipython3",
      "version": "3.10.7"
    }
  },
  "nbformat": 4,
  "nbformat_minor": 0
}