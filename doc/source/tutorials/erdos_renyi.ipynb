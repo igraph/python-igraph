{
  "cells": [
    {
      "cell_type": "code",
      "execution_count": null,
      "metadata": {
        "collapsed": false
      },
      "outputs": [],
      "source": [
        "%matplotlib inline"
      ]
    },
    {
      "cell_type": "markdown",
      "metadata": {},
      "source": [
        "\n\n# Erd\u0151s-R\u00e9nyi Graph\n\nThis example demonstrates how to generate [Erd\u0151s-R\u00e9nyi Graphs](https://en.wikipedia.org/wiki/Erd%C5%91s%E2%80%93R%C3%A9nyi_model) using :meth:`igraph.GraphBase.Erdos_Renyi`. There are two variants of graphs:\n\n- ``Erdos_Renyi(n, p)`` will generate a graph where each edge between any two pair of nodes has an independent probability ``p`` of existing.\n- ``Erdos_Renyi(n, m)`` will pick a graph uniformly at random out of all graphs with ``n`` nodes and ``m`` edges.\n\nWe generate two graphs of each, so we can confirm that our graph generator is truly random.\n"
      ]
    },
    {
      "cell_type": "code",
      "execution_count": null,
      "metadata": {
        "collapsed": false
      },
      "outputs": [],
      "source": [
        "import igraph as ig\nimport matplotlib.pyplot as plt\nimport random"
      ]
    },
    {
      "cell_type": "markdown",
      "metadata": {},
      "source": [
        "First, we set a random seed for reproducibility\n\n"
      ]
    },
    {
      "cell_type": "code",
      "execution_count": null,
      "metadata": {
        "collapsed": false
      },
      "outputs": [],
      "source": [
        "random.seed(0)"
      ]
    },
    {
      "cell_type": "markdown",
      "metadata": {},
      "source": [
        "Then, we generate two Erdos Renyi graphs with identical parameters:\n\n"
      ]
    },
    {
      "cell_type": "code",
      "execution_count": null,
      "metadata": {
        "collapsed": false
      },
      "outputs": [],
      "source": [
        "g1 = ig.Graph.Erdos_Renyi(n=15, p=0.2, directed=False, loops=False)\ng2 = ig.Graph.Erdos_Renyi(n=15, p=0.2, directed=False, loops=False)"
      ]
    },
    {
      "cell_type": "markdown",
      "metadata": {},
      "source": [
        "For comparison, we also generate two Erdos Renyi graphs with a fixed number\nof edges:\n\n"
      ]
    },
    {
      "cell_type": "code",
      "execution_count": null,
      "metadata": {
        "collapsed": false
      },
      "outputs": [],
      "source": [
        "g3 = ig.Graph.Erdos_Renyi(n=20, m=35, directed=False, loops=False)\ng4 = ig.Graph.Erdos_Renyi(n=20, m=35, directed=False, loops=False)"
      ]
    },
    {
      "cell_type": "markdown",
      "metadata": {},
      "source": [
        "We can print out summaries of each graph to verify their randomness\n\n"
      ]
    },
    {
      "cell_type": "code",
      "execution_count": null,
      "metadata": {
        "collapsed": false
      },
      "outputs": [],
      "source": [
        "ig.summary(g1)\nig.summary(g2)\nig.summary(g3)\nig.summary(g4)\n\n# IGRAPH U--- 15 18 --\n# IGRAPH U--- 15 21 --\n# IGRAPH U--- 20 35 --\n# IGRAPH U--- 20 35 --"
      ]
    },
    {
      "cell_type": "markdown",
      "metadata": {},
      "source": [
        "Finally, we can plot the graphs to illustrate their structures and\ndifferences:\n\n"
      ]
    },
    {
      "cell_type": "code",
      "execution_count": null,
      "metadata": {
        "collapsed": false
      },
      "outputs": [],
      "source": [
        "fig, axs = plt.subplots(2, 2)\n# Probability\nig.plot(\n    g1,\n    target=axs[0, 0],\n    layout=\"circle\",\n    vertex_color=\"lightblue\"\n)\nig.plot(\n    g2,\n    target=axs[0, 1],\n    layout=\"circle\",\n    vertex_color=\"lightblue\"\n)\naxs[0, 0].set_ylabel('Probability')\n# N edges\nig.plot(\n    g3,\n    target=axs[1, 0],\n    layout=\"circle\",\n    vertex_color=\"lightblue\",\n    vertex_size=0.15\n)\nig.plot(\n    g4,\n    target=axs[1, 1],\n    layout=\"circle\",\n    vertex_color=\"lightblue\",\n    vertex_size=0.15\n)\naxs[1, 0].set_ylabel('N. edges')\nplt.show()"
      ]
    },
    {
      "cell_type": "markdown",
      "metadata": {},
      "source": [
        "<div class=\"alert alert-info\"><h4>Note</h4><p>Even when using the same random seed, results can still differ depending\n    on the machine the code is being run from.</p></div>\n\n"
      ]
    }
  ],
  "metadata": {
    "kernelspec": {
      "display_name": "Python 3",
      "language": "python",
      "name": "python3"
    },
    "language_info": {
      "codemirror_mode": {
        "name": "ipython",
        "version": 3
      },
      "file_extension": ".py",
      "mimetype": "text/x-python",
      "name": "python",
      "nbconvert_exporter": "python",
      "pygments_lexer": "ipython3",
      "version": "3.10.7"
    }
  },
  "nbformat": 4,
  "nbformat_minor": 0
}