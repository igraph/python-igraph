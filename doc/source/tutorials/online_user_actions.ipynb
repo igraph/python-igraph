{
  "cells": [
    {
      "cell_type": "code",
      "execution_count": null,
      "metadata": {
        "collapsed": false
      },
      "outputs": [],
      "source": [
        "%matplotlib inline"
      ]
    },
    {
      "cell_type": "markdown",
      "metadata": {},
      "source": [
        "\n\n# Online user actions\n\nThis example reproduces a typical data science situation in an internet company. We start from a pandas DataFrame with online user actions, for instance for an online text editor: the user can create a page, edit it, or delete it. We want to construct and visualize a graph of the users highlighting collaborations on the same page/project.\n"
      ]
    },
    {
      "cell_type": "code",
      "execution_count": null,
      "metadata": {
        "collapsed": false
      },
      "outputs": [],
      "source": [
        "import igraph as ig\nimport numpy as np\nimport pandas as pd\nimport matplotlib.pyplot as plt"
      ]
    },
    {
      "cell_type": "markdown",
      "metadata": {},
      "source": [
        "Let's start by preparing some toy data representing online users. Each row\nindicates a certain action taken by a user (e.g. click on a button within a\nwebsite). Actual user data usually come with time stamp, but that's not\nessential for this example.\n\n"
      ]
    },
    {
      "cell_type": "code",
      "execution_count": null,
      "metadata": {
        "collapsed": false
      },
      "outputs": [],
      "source": [
        "action_dataframe = pd.DataFrame([\n    ['dsj3239asadsa3', 'createPage', 'greatProject'],\n    ['2r09ej221sk2k5', 'editPage', 'greatProject'],\n    ['dsj3239asadsa3', 'editPage', 'greatProject'],\n    ['789dsadafj32jj', 'editPage', 'greatProject'],\n    ['oi32ncwosap399', 'editPage', 'greatProject'],\n    ['4r4320dkqpdokk', 'createPage', 'miniProject'],\n    ['320eljl3lk3239', 'editPage', 'miniProject'],\n    ['dsj3239asadsa3', 'editPage', 'miniProject'],\n    ['3203ejew332323', 'createPage', 'private'],\n    ['3203ejew332323', 'editPage', 'private'],\n    ['40m11919332msa', 'createPage', 'private2'],\n    ['40m11919332msa', 'editPage', 'private2'],\n    ['dsj3239asadsa3', 'createPage', 'anotherGreatProject'],\n    ['2r09ej221sk2k5', 'editPage', 'anotherGreatProject'],\n    ],\n    columns=['userid', 'action', 'project'],\n)"
      ]
    },
    {
      "cell_type": "markdown",
      "metadata": {},
      "source": [
        "The goal of this example is to check when two users worked on the same page.\nWe choose to use a weighted adjacency matrix for this, i.e. a table with rows\nand columns indexes by the users that has nonzero entries whenever folks\ncollaborate. First, let's get the users and prepare an empty matrix:\n\n"
      ]
    },
    {
      "cell_type": "code",
      "execution_count": null,
      "metadata": {
        "collapsed": false
      },
      "outputs": [],
      "source": [
        "users = action_dataframe['userid'].unique()\nadjacency_matrix = pd.DataFrame(\n    np.zeros((len(users), len(users)), np.int32),\n    index=users,\n    columns=users,\n)"
      ]
    },
    {
      "cell_type": "markdown",
      "metadata": {},
      "source": [
        "Then, let's iterate over all projects one by one, and add all collaborations:\n\n"
      ]
    },
    {
      "cell_type": "code",
      "execution_count": null,
      "metadata": {
        "collapsed": false
      },
      "outputs": [],
      "source": [
        "for project, project_data in action_dataframe.groupby('project'):\n    project_users = project_data['userid'].values\n    for i1, user1 in enumerate(project_users):\n        for user2 in project_users[:i1]:\n            adjacency_matrix.at[user1, user2] += 1"
      ]
    },
    {
      "cell_type": "markdown",
      "metadata": {},
      "source": [
        "There are many ways to achieve the above matrix, so don't be surprised if you\ncame up with another algorithm ;-) Now it's time to make the graph:\n\n"
      ]
    },
    {
      "cell_type": "code",
      "execution_count": null,
      "metadata": {
        "collapsed": false
      },
      "outputs": [],
      "source": [
        "g = ig.Graph.Weighted_Adjacency(adjacency_matrix, mode='plus')"
      ]
    },
    {
      "cell_type": "markdown",
      "metadata": {},
      "source": [
        "We can take a look at the graph via plotting functions. We can first make a\nlayout:\n\n"
      ]
    },
    {
      "cell_type": "code",
      "execution_count": null,
      "metadata": {
        "collapsed": false
      },
      "outputs": [],
      "source": [
        "layout = g.layout('circle')"
      ]
    },
    {
      "cell_type": "markdown",
      "metadata": {},
      "source": [
        "Then we can prepare vertex sizes based on their closeness to other vertices\n\n"
      ]
    },
    {
      "cell_type": "code",
      "execution_count": null,
      "metadata": {
        "collapsed": false
      },
      "outputs": [],
      "source": [
        "vertex_size = g.closeness()\nvertex_size = [0.5 * v**2 if not np.isnan(v) else 0.05 for v in vertex_size]"
      ]
    },
    {
      "cell_type": "markdown",
      "metadata": {},
      "source": [
        "Finally, we can plot the graph:\n\n"
      ]
    },
    {
      "cell_type": "code",
      "execution_count": null,
      "metadata": {
        "collapsed": false
      },
      "outputs": [],
      "source": [
        "fig, ax = plt.subplots()\nig.plot(\n    g,\n    target=ax,\n    layout=layout,\n    vertex_label=g.vs['name'],\n    vertex_color=\"lightblue\",\n    vertex_size=vertex_size,\n    edge_width=g.es[\"weight\"],\n)\nplt.show()"
      ]
    },
    {
      "cell_type": "markdown",
      "metadata": {},
      "source": [
        "Loops indicate \"self-collaborations\", which are not very meaningful. To\nfilter out loops without losing the edge weights, we can use:\n\n"
      ]
    },
    {
      "cell_type": "code",
      "execution_count": null,
      "metadata": {
        "collapsed": false
      },
      "outputs": [],
      "source": [
        "g = g.simplify(combine_edges='first')\n\nfig, ax = plt.subplots()\nig.plot(\n    g,\n    target=ax,\n    layout=layout,\n    vertex_label=g.vs['name'],\n    vertex_color=\"lightblue\",\n    vertex_size=vertex_size,\n    edge_width=g.es[\"weight\"],\n)\nplt.show()"
      ]
    }
  ],
  "metadata": {
    "kernelspec": {
      "display_name": "Python 3",
      "language": "python",
      "name": "python3"
    },
    "language_info": {
      "codemirror_mode": {
        "name": "ipython",
        "version": 3
      },
      "file_extension": ".py",
      "mimetype": "text/x-python",
      "name": "python",
      "nbconvert_exporter": "python",
      "pygments_lexer": "ipython3",
      "version": "3.10.7"
    }
  },
  "nbformat": 4,
  "nbformat_minor": 0
}