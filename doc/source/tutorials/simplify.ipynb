{
  "cells": [
    {
      "cell_type": "code",
      "execution_count": null,
      "metadata": {
        "collapsed": false
      },
      "outputs": [],
      "source": [
        "%matplotlib inline"
      ]
    },
    {
      "cell_type": "markdown",
      "metadata": {},
      "source": [
        "\n# Simplify\n\nThis example shows how to remove self loops and multiple edges using :meth:`igraph.GraphBase.simplify`.\n"
      ]
    },
    {
      "cell_type": "code",
      "execution_count": null,
      "metadata": {
        "collapsed": false
      },
      "outputs": [],
      "source": [
        "import igraph as ig\nimport matplotlib.pyplot as plt"
      ]
    },
    {
      "cell_type": "markdown",
      "metadata": {},
      "source": [
        "We start with a graph that includes loops and multiedges:\n\n"
      ]
    },
    {
      "cell_type": "code",
      "execution_count": null,
      "metadata": {
        "collapsed": false
      },
      "outputs": [],
      "source": [
        "g1 = ig.Graph([\n    (0, 1),\n    (1, 2),\n    (2, 3),\n    (3, 4),\n    (4, 0),\n    (0, 0), \n    (1, 4),\n    (1, 4),\n    (0, 2),\n    (2, 4),\n    (2, 4),\n    (2, 4),\n    (3, 3)],\n)"
      ]
    },
    {
      "cell_type": "markdown",
      "metadata": {},
      "source": [
        "To simplify the graph, we must remember that the function operates in place,\ni.e. directly changes the graph that it is run on. So we need to first make a\ncopy of our graph, and then simplify that copy to keep the original graph\nuntouched:\n\n"
      ]
    },
    {
      "cell_type": "code",
      "execution_count": null,
      "metadata": {
        "collapsed": false
      },
      "outputs": [],
      "source": [
        "g2 = g1.copy()\ng2.simplify()"
      ]
    },
    {
      "cell_type": "markdown",
      "metadata": {},
      "source": [
        "We can then proceed to plot both graphs to see the difference. First, let's\nchoose a consistent visual style:\n\n"
      ]
    },
    {
      "cell_type": "code",
      "execution_count": null,
      "metadata": {
        "collapsed": false
      },
      "outputs": [],
      "source": [
        "visual_style = {\n    \"vertex_color\": \"lightblue\",\n    \"vertex_size\": 0.4,\n    \"vertex_label\": [0, 1, 2, 3, 4],\n}"
      ]
    },
    {
      "cell_type": "markdown",
      "metadata": {},
      "source": [
        "And finally, let's plot them in twin axes, with rectangular frames around\neach plot:\n\n"
      ]
    },
    {
      "cell_type": "code",
      "execution_count": null,
      "metadata": {
        "collapsed": false
      },
      "outputs": [],
      "source": [
        "fig, axs = plt.subplots(1, 2, sharex=True, sharey=True)\nig.plot(\n    g1,\n    layout=\"circle\",\n    target=axs[0],\n    **visual_style,\n)\nig.plot(\n    g2,\n    layout=\"circle\",\n    target=axs[1],\n    **visual_style,\n)\naxs[0].set_title('Multigraph...')\naxs[1].set_title('...simplified')\n# Draw rectangles around axes\naxs[0].add_patch(plt.Rectangle(\n    (0, 0), 1, 1, fc='none', ec='k', lw=4, transform=axs[0].transAxes,\n    ))\naxs[1].add_patch(plt.Rectangle(\n    (0, 0), 1, 1, fc='none', ec='k', lw=4, transform=axs[1].transAxes,\n    ))\nplt.show()"
      ]
    }
  ],
  "metadata": {
    "kernelspec": {
      "display_name": "Python 3",
      "language": "python",
      "name": "python3"
    },
    "language_info": {
      "codemirror_mode": {
        "name": "ipython",
        "version": 3
      },
      "file_extension": ".py",
      "mimetype": "text/x-python",
      "name": "python",
      "nbconvert_exporter": "python",
      "pygments_lexer": "ipython3",
      "version": "3.10.7"
    }
  },
  "nbformat": 4,
  "nbformat_minor": 0
}