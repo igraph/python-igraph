{
  "cells": [
    {
      "cell_type": "code",
      "execution_count": null,
      "metadata": {
        "collapsed": false
      },
      "outputs": [],
      "source": [
        "%matplotlib inline"
      ]
    },
    {
      "cell_type": "markdown",
      "metadata": {},
      "source": [
        "\n\n# Maximum Bipartite Matching by Maximum Flow\n\nThis example presents how to visualise bipartite matching using maximum flow (see :meth:`igraph.Graph.maxflow`).\n\n<div class=\"alert alert-info\"><h4>Note</h4><p>:meth:`igraph.Graph.maximum_bipartite_matching` is usually a better way to find the maximum bipartite matching. For a demonstration on how to use that method instead, check out `tutorials-bipartite-matching`.</p></div>\n"
      ]
    },
    {
      "cell_type": "code",
      "execution_count": null,
      "metadata": {
        "collapsed": false
      },
      "outputs": [],
      "source": [
        "import igraph as ig\nimport matplotlib.pyplot as plt"
      ]
    },
    {
      "cell_type": "markdown",
      "metadata": {},
      "source": [
        "We start by creating the bipartite directed graph.\n\n"
      ]
    },
    {
      "cell_type": "code",
      "execution_count": null,
      "metadata": {
        "collapsed": false
      },
      "outputs": [],
      "source": [
        "g = ig.Graph(\n    9,\n    [(0, 4), (0, 5), (1, 4), (1, 6), (1, 7), (2, 5), (2, 7), (2, 8), (3, 6), (3, 7)],\n    directed=True\n)"
      ]
    },
    {
      "cell_type": "markdown",
      "metadata": {},
      "source": [
        "We assign:\n - nodes 0-3 to one side\n - nodes 4-8 to the other side\n\n"
      ]
    },
    {
      "cell_type": "code",
      "execution_count": null,
      "metadata": {
        "collapsed": false
      },
      "outputs": [],
      "source": [
        "g.vs[range(4)][\"type\"] = True\ng.vs[range(4, 9)][\"type\"] = False"
      ]
    },
    {
      "cell_type": "markdown",
      "metadata": {},
      "source": [
        "Then we add a source (vertex 9) and a sink (vertex 10)\n\n"
      ]
    },
    {
      "cell_type": "code",
      "execution_count": null,
      "metadata": {
        "collapsed": false
      },
      "outputs": [],
      "source": [
        "g.add_vertices(2)\ng.add_edges([(9, 0), (9, 1), (9, 2), (9, 3)])  # connect source to one side\ng.add_edges([(4, 10), (5, 10), (6, 10), (7, 10), (8, 10)])  # ... and sinks to the other\n\nflow = g.maxflow(9, 10)\nprint(\"Size of maximum matching (maxflow) is:\", flow.value)"
      ]
    },
    {
      "cell_type": "markdown",
      "metadata": {},
      "source": [
        "Let's compare the output against :meth:`igraph.Graph.maximum_bipartite_matching`:\n\n"
      ]
    },
    {
      "cell_type": "code",
      "execution_count": null,
      "metadata": {
        "collapsed": false
      },
      "outputs": [],
      "source": [
        "# delete the source and sink, which are unneeded for this function.\ng2 = g.copy()\ng2.delete_vertices([9, 10])\nmatching = g2.maximum_bipartite_matching()\nmatching_size = sum(1 for i in range(4) if matching.is_matched(i))\nprint(\"Size of maximum matching (maximum_bipartite_matching) is:\", matching_size)"
      ]
    },
    {
      "cell_type": "markdown",
      "metadata": {},
      "source": [
        "Last, we can display the original flow graph nicely with the matchings added.\nTo achieve a pleasant visual effect, we set the positions of source and sink\nmanually:\n\n"
      ]
    },
    {
      "cell_type": "code",
      "execution_count": null,
      "metadata": {
        "collapsed": false
      },
      "outputs": [],
      "source": [
        "layout = g.layout_bipartite()\nlayout[9] = (2, -1)\nlayout[10] = (2, 2)\n\nfig, ax = plt.subplots()\nig.plot(\n    g,\n    target=ax,\n    layout=layout,\n    vertex_size=0.4,\n    vertex_label=range(g.vcount()),\n    vertex_color=[\"lightblue\" if i < 9 else \"orange\" for i in range(11)],\n    edge_width=[1.0 + flow.flow[i] for i in range(g.ecount())]\n)\nplt.show()"
      ]
    }
  ],
  "metadata": {
    "kernelspec": {
      "display_name": "Python 3",
      "language": "python",
      "name": "python3"
    },
    "language_info": {
      "codemirror_mode": {
        "name": "ipython",
        "version": 3
      },
      "file_extension": ".py",
      "mimetype": "text/x-python",
      "name": "python",
      "nbconvert_exporter": "python",
      "pygments_lexer": "ipython3",
      "version": "3.10.7"
    }
  },
  "nbformat": 4,
  "nbformat_minor": 0
}